{
 "cells": [
  {
   "cell_type": "code",
   "execution_count": null,
   "outputs": [],
   "source": [
    "from riotwatcher import LolWatcher"
   ],
   "metadata": {
    "collapsed": false
   },
   "id": "bc519651fbaa76ec"
  },
  {
   "cell_type": "code",
   "execution_count": 16,
   "outputs": [],
   "source": [
    "api_key = open(\"key\", \"r\").readline()\n",
    "watcher = LolWatcher(api_key)\n",
    "\n",
    "server = 'europe'\n",
    "region = 'euw1'"
   ],
   "metadata": {
    "collapsed": false,
    "ExecuteTime": {
     "end_time": "2023-10-15T21:37:16.362887100Z",
     "start_time": "2023-10-15T21:37:16.358370900Z"
    }
   },
   "id": "c7761d250e91723b"
  },
  {
   "cell_type": "markdown",
   "source": [
    "----\n",
    "# Summoner\n",
    "\n",
    "[Summoner-V4](https://developer.riotgames.com/apis#summoner-v4)"
   ],
   "metadata": {
    "collapsed": false
   },
   "id": "4c05eba1ff1bdb0f"
  },
  {
   "cell_type": "code",
   "execution_count": 19,
   "outputs": [],
   "source": [
    "# use watcher.summoner to get info about the summoner\n",
    "watcher.summoner"
   ],
   "metadata": {
    "collapsed": false,
    "ExecuteTime": {
     "end_time": "2023-10-15T21:54:48.755549600Z",
     "start_time": "2023-10-15T21:54:48.743278100Z"
    }
   },
   "id": "874a90caee01331e"
  },
  {
   "cell_type": "code",
   "execution_count": null,
   "outputs": [],
   "source": [
    "options = ['accountId', 'summonerName', 'puuid', 'summonerId']  # summonerId is \"id\" in the api"
   ],
   "metadata": {
    "collapsed": false
   },
   "id": "88402c01cd4b0366"
  },
  {
   "cell_type": "code",
   "execution_count": null,
   "outputs": [],
   "source": [
    "watcher.summoner.by_account(region, encrypted_account_id=\"\")\n",
    "watcher.summoner.by_name(region, summoner_name=\"\")\n",
    "watcher.summoner.by_puuid(region, encrypted_puuid=\"\")\n",
    "watcher.summoner.by_id(region, encrypted_summoner_id=\"\")  # encrypted_summoner_id is \"id\" in the api\n"
   ],
   "metadata": {
    "collapsed": false
   },
   "id": "6ea978ff0de29eb3"
  },
  {
   "cell_type": "markdown",
   "source": [
    "----\n",
    "# Mastery\n",
    "\n",
    "[Champion-Mastery-V4](https://developer.riotgames.com/apis#champion-mastery-v4)"
   ],
   "metadata": {
    "collapsed": false
   },
   "id": "946faa890872e6d8"
  },
  {
   "cell_type": "code",
   "execution_count": null,
   "outputs": [],
   "source": [
    "# use watcher.champion_mastery to get info about the mastery\n",
    "watcher.champion_mastery.by_summoner(region, encrypted_summoner_id=\"\")"
   ],
   "metadata": {
    "collapsed": false
   },
   "id": "977eca4de1c3b432"
  },
  {
   "cell_type": "markdown",
   "source": [
    "----\n",
    "# Leagues\n",
    "[League-V4](https://developer.riotgames.com/apis#league-v4/GET_getLeagueEntriesForSummoner)"
   ],
   "metadata": {
    "collapsed": false
   },
   "id": "fecb034791336102"
  },
  {
   "cell_type": "code",
   "execution_count": null,
   "outputs": [],
   "source": [
    "# use watcher.league to get the list of players in each elo\n",
    "watcher.league"
   ],
   "metadata": {
    "collapsed": false
   },
   "id": "151330355291647c"
  },
  {
   "cell_type": "markdown",
   "source": [
    "#### 1. Get player list below master"
   ],
   "metadata": {
    "collapsed": false
   },
   "id": "2bfbbfb2697ae145"
  },
  {
   "cell_type": "code",
   "execution_count": 15,
   "outputs": [],
   "source": [
    "gameMode = ['CLASSIC']\n",
    "gameType = 'MATCHED_GAME'\n",
    "queue = ['RANKED_SOLO_5x5', 'RANKED_FLEX_SR', 'RANKED_FLEX_TT']\n",
    "tier = ['IRON', 'BRONZE', 'SILVER', 'GOLD', 'PLATINUM', 'DIAMOND']\n",
    "division = ['I', 'II', 'III', 'IV']"
   ],
   "metadata": {
    "collapsed": false,
    "ExecuteTime": {
     "start_time": "2023-10-15T21:37:16.121244Z"
    }
   },
   "id": "98925cca1d52e147"
  },
  {
   "cell_type": "code",
   "execution_count": null,
   "outputs": [],
   "source": [
    "page = 1\n",
    "elo = watcher.league.entries(region, queue[0], tier[-1], division[0], page)\n",
    "elo"
   ],
   "metadata": {
    "collapsed": false
   },
   "id": "8e5c63a8d437d6e9"
  },
  {
   "cell_type": "markdown",
   "source": [
    "#### 2. Get player list above master"
   ],
   "metadata": {
    "collapsed": false
   },
   "id": "5eab5b00acfac17e"
  },
  {
   "cell_type": "code",
   "execution_count": null,
   "outputs": [],
   "source": [
    "watcher.league.masters_by_queue(region, queue[0])\n",
    "watcher.league.grandmaster_by_queue(region, queue[0])\n",
    "watcher.league.challenger_by_queue(region, queue[0])"
   ],
   "metadata": {
    "collapsed": false
   },
   "id": "43dc02f1b8b9889a"
  },
  {
   "cell_type": "markdown",
   "source": [
    "#### 3. Get single player info"
   ],
   "metadata": {
    "collapsed": false
   },
   "id": "bc041e3631249445"
  },
  {
   "cell_type": "code",
   "execution_count": null,
   "outputs": [],
   "source": [
    "watcher.league.by_summoner(region, encrypted_summoner_id=\"\")"
   ],
   "metadata": {
    "collapsed": false
   },
   "id": "3f9aa3db83eb011b"
  },
  {
   "cell_type": "markdown",
   "source": [
    "----\n",
    "# Match\n",
    "\n",
    "[Match-V4](https://developer.riotgames.com/apis#match-v5)"
   ],
   "metadata": {
    "collapsed": false
   },
   "id": "fc0229048a30b4b"
  },
  {
   "cell_type": "code",
   "execution_count": null,
   "outputs": [],
   "source": [
    "# use watcher.match to get info about the match\n",
    "watcher.match"
   ],
   "metadata": {
    "collapsed": false
   },
   "id": "83e92de7a0fbd33f"
  },
  {
   "cell_type": "markdown",
   "source": [
    "#### 1. Get match history by puuid\n",
    "\n",
    "queue:\n",
    "- Ranked Solo Queue: 420\n",
    "- Ranked Flex Queue: 440\n",
    "- ARAM: 450\n",
    "\n",
    "type:\n",
    "- normal\n",
    "- ranked\n",
    "- tutorial\n",
    "- tourney"
   ],
   "metadata": {
    "collapsed": false
   },
   "id": "72bfd5aaf1f1011e"
  },
  {
   "cell_type": "code",
   "execution_count": null,
   "outputs": [],
   "source": [
    "# There is a limit of 100 matches per request\n",
    "watcher.match.matchlist_by_puuid(region, encrypted_puuid=\"\")"
   ],
   "metadata": {
    "collapsed": false
   },
   "id": "9a63c1dbb09a8fa3"
  },
  {
   "cell_type": "markdown",
   "source": [
    "#### 2. Get match outcome by match id"
   ],
   "metadata": {
    "collapsed": false
   },
   "id": "769b8637860005d2"
  },
  {
   "cell_type": "code",
   "execution_count": null,
   "outputs": [],
   "source": [
    "# To get the final state of the match\n",
    "watcher.match.by_id(region, match_id=\"\")\n",
    "# To get the timeline of the match\n",
    "watcher.match.timeline_by_match(region, match_id=\"\")"
   ],
   "metadata": {
    "collapsed": false
   },
   "id": "9630046120019d9f"
  },
  {
   "cell_type": "markdown",
   "source": [
    "----\n",
    "# Game"
   ],
   "metadata": {
    "collapsed": false
   },
   "id": "c495fda3d9de66f0"
  },
  {
   "cell_type": "code",
   "execution_count": null,
   "outputs": [],
   "source": [
    "# use watcher.data_dragon to get info about the champions\n",
    "watcher.data_dragon"
   ],
   "metadata": {
    "collapsed": false
   },
   "id": "3e5a5ad76cad6671"
  },
  {
   "cell_type": "markdown",
   "source": [
    "#### 1. Get champion info"
   ],
   "metadata": {
    "collapsed": false
   },
   "id": "a80a8e2cec684b78"
  },
  {
   "cell_type": "code",
   "execution_count": null,
   "outputs": [],
   "source": [
    "version = watcher.data_dragon.versions_for_region(region)\n",
    "locale = \"en_US\""
   ],
   "metadata": {
    "collapsed": false
   },
   "id": "247af87a18f55073"
  },
  {
   "cell_type": "code",
   "execution_count": 34,
   "outputs": [],
   "source": [
    "champions = watcher.data_dragon.champions(version[\"n\"][\"champion\"], locale=locale, full=False)"
   ],
   "metadata": {
    "collapsed": false,
    "ExecuteTime": {
     "end_time": "2023-10-15T22:43:56.228628100Z",
     "start_time": "2023-10-15T22:43:56.200968Z"
    }
   },
   "id": "fff899ad6cfbac61"
  },
  {
   "cell_type": "code",
   "execution_count": null,
   "outputs": [],
   "source": [
    "champions['data']['Aatrox']"
   ],
   "metadata": {
    "collapsed": false
   },
   "id": "5ac85a3b7c1b23ba"
  },
  {
   "cell_type": "code",
   "execution_count": null,
   "outputs": [],
   "source": [
    "import pandas as pd\n",
    "\n",
    "champions_df = pd.DataFrame(champions['data']).T[['key', 'name', 'tags']]\n",
    "champions_df = champions_df.astype({'key': int, 'name': str}).reset_index(drop=True)\n",
    "champions_df"
   ],
   "metadata": {
    "collapsed": false
   },
   "id": "cc7e112d4d93dd34"
  },
  {
   "cell_type": "markdown",
   "source": [
    "#### 2. Get item info"
   ],
   "metadata": {
    "collapsed": false
   },
   "id": "3e0e4d619d5229d5"
  },
  {
   "cell_type": "code",
   "execution_count": 91,
   "outputs": [],
   "source": [
    "items = watcher.data_dragon.items(version=\"13.20.1\", locale=\"en_US\")"
   ],
   "metadata": {
    "collapsed": false,
    "ExecuteTime": {
     "end_time": "2023-10-15T22:56:19.451321200Z",
     "start_time": "2023-10-15T22:56:19.194327800Z"
    }
   },
   "id": "de148c5620bf84f8"
  },
  {
   "cell_type": "code",
   "execution_count": 99,
   "outputs": [],
   "source": [
    "items_df = pd.DataFrame(items['data']).T[['name', 'into', 'from', 'gold', 'tags']]"
   ],
   "metadata": {
    "collapsed": false,
    "ExecuteTime": {
     "end_time": "2023-10-15T22:59:48.572254200Z",
     "start_time": "2023-10-15T22:59:48.571252400Z"
    }
   },
   "id": "29da5549394b5a84"
  },
  {
   "cell_type": "code",
   "execution_count": null,
   "outputs": [],
   "source": [
    "items_df"
   ],
   "metadata": {
    "collapsed": false
   },
   "id": "2c075e4d1904d806"
  },
  {
   "cell_type": "code",
   "execution_count": null,
   "outputs": [],
   "source": [],
   "metadata": {
    "collapsed": false
   },
   "id": "6de44d0140e217bd"
  }
 ],
 "metadata": {
  "kernelspec": {
   "display_name": "Python 3",
   "language": "python",
   "name": "python3"
  },
  "language_info": {
   "codemirror_mode": {
    "name": "ipython",
    "version": 2
   },
   "file_extension": ".py",
   "mimetype": "text/x-python",
   "name": "python",
   "nbconvert_exporter": "python",
   "pygments_lexer": "ipython2",
   "version": "2.7.6"
  }
 },
 "nbformat": 4,
 "nbformat_minor": 5
}
