{
 "cells": [
  {
   "cell_type": "code",
   "execution_count": null,
   "outputs": [],
   "source": [
    "from riotwatcher import LolWatcher"
   ],
   "metadata": {
    "collapsed": false
   },
   "id": "bc519651fbaa76ec"
  },
  {
   "cell_type": "code",
   "execution_count": 16,
   "outputs": [],
   "source": [
    "api_key = open(\"key\", \"r\").readline()\n",
    "watcher = LolWatcher(api_key)\n",
    "\n",
    "server = 'europe'\n",
    "region = 'euw1'"
   ],
   "metadata": {
    "collapsed": false,
    "ExecuteTime": {
     "end_time": "2023-10-15T21:37:16.362887100Z",
     "start_time": "2023-10-15T21:37:16.358370900Z"
    }
   },
   "id": "c7761d250e91723b"
  },
  {
   "cell_type": "markdown",
   "source": [
    "----\n",
    "# Summoner info\n",
    "\n",
    "[Summoner-V4](https://developer.riotgames.com/apis#summoner-v4)"
   ],
   "metadata": {
    "collapsed": false
   },
   "id": "4c05eba1ff1bdb0f"
  },
  {
   "cell_type": "code",
   "execution_count": 19,
   "outputs": [],
   "source": [
    "# use watcher.summoner to get info about the summoner\n",
    "watcher.summoner"
   ],
   "metadata": {
    "collapsed": false,
    "ExecuteTime": {
     "end_time": "2023-10-15T21:54:48.755549600Z",
     "start_time": "2023-10-15T21:54:48.743278100Z"
    }
   },
   "id": "874a90caee01331e"
  },
  {
   "cell_type": "code",
   "execution_count": null,
   "outputs": [],
   "source": [
    "options = ['accountId', 'summonerName', 'puuid', 'summonerId']  # summonerId is \"id\" in the api"
   ],
   "metadata": {
    "collapsed": false
   },
   "id": "88402c01cd4b0366"
  },
  {
   "cell_type": "code",
   "execution_count": null,
   "outputs": [],
   "source": [
    "watcher.summoner.by_account(region, encrypted_account_id=\"\")\n",
    "watcher.summoner.by_name(region, summoner_name=\"\")\n",
    "watcher.summoner.by_puuid(region, encrypted_puuid=\"\")\n",
    "watcher.summoner.by_id(region, encrypted_summoner_id=\"\")  # encrypted_summoner_id is \"id\" in the api\n"
   ],
   "metadata": {
    "collapsed": false
   },
   "id": "6ea978ff0de29eb3"
  },
  {
   "cell_type": "markdown",
   "source": [
    "----\n",
    "# Mastery info\n",
    "\n",
    "[Champion-Mastery-V4](https://developer.riotgames.com/apis#champion-mastery-v4)"
   ],
   "metadata": {
    "collapsed": false
   },
   "id": "946faa890872e6d8"
  },
  {
   "cell_type": "code",
   "execution_count": 21,
   "outputs": [
    {
     "data": {
      "text/plain": "[{'puuid': 'WOmVc65THRnANkwphrCQVwpvwvIw80oDjegANiw9VdsXuh5h9E0ijBgPqH9UgQUzfpl0vKSz4A9mlg',\n  'championId': 56,\n  'championLevel': 7,\n  'championPoints': 255220,\n  'lastPlayTime': 1697391656000,\n  'championPointsSinceLastLevel': 233620,\n  'championPointsUntilNextLevel': 0,\n  'chestGranted': True,\n  'tokensEarned': 0,\n  'summonerId': 'AMusPorQJJ3pVyeXQsn4qCvbfNTnPWbi4crOPJvWJoPJ3OA'},\n {'puuid': 'WOmVc65THRnANkwphrCQVwpvwvIw80oDjegANiw9VdsXuh5h9E0ijBgPqH9UgQUzfpl0vKSz4A9mlg',\n  'championId': 202,\n  'championLevel': 7,\n  'championPoints': 246995,\n  'lastPlayTime': 1696545433000,\n  'championPointsSinceLastLevel': 225395,\n  'championPointsUntilNextLevel': 0,\n  'chestGranted': False,\n  'tokensEarned': 0,\n  'summonerId': 'AMusPorQJJ3pVyeXQsn4qCvbfNTnPWbi4crOPJvWJoPJ3OA'},\n {'puuid': 'WOmVc65THRnANkwphrCQVwpvwvIw80oDjegANiw9VdsXuh5h9E0ijBgPqH9UgQUzfpl0vKSz4A9mlg',\n  'championId': 86,\n  'championLevel': 7,\n  'championPoints': 197978,\n  'lastPlayTime': 1697387933000,\n  'championPointsSinceLastLevel': 176378,\n  'championPointsUntilNextLevel': 0,\n  'chestGranted': True,\n  'tokensEarned': 0,\n  'summonerId': 'AMusPorQJJ3pVyeXQsn4qCvbfNTnPWbi4crOPJvWJoPJ3OA'},\n {'puuid': 'WOmVc65THRnANkwphrCQVwpvwvIw80oDjegANiw9VdsXuh5h9E0ijBgPqH9UgQUzfpl0vKSz4A9mlg',\n  'championId': 23,\n  'championLevel': 7,\n  'championPoints': 150752,\n  'lastPlayTime': 1696761373000,\n  'championPointsSinceLastLevel': 129152,\n  'championPointsUntilNextLevel': 0,\n  'chestGranted': False,\n  'tokensEarned': 0,\n  'summonerId': 'AMusPorQJJ3pVyeXQsn4qCvbfNTnPWbi4crOPJvWJoPJ3OA'},\n {'puuid': 'WOmVc65THRnANkwphrCQVwpvwvIw80oDjegANiw9VdsXuh5h9E0ijBgPqH9UgQUzfpl0vKSz4A9mlg',\n  'championId': 131,\n  'championLevel': 7,\n  'championPoints': 113820,\n  'lastPlayTime': 1697318871000,\n  'championPointsSinceLastLevel': 92220,\n  'championPointsUntilNextLevel': 0,\n  'chestGranted': True,\n  'tokensEarned': 0,\n  'summonerId': 'AMusPorQJJ3pVyeXQsn4qCvbfNTnPWbi4crOPJvWJoPJ3OA'},\n {'puuid': 'WOmVc65THRnANkwphrCQVwpvwvIw80oDjegANiw9VdsXuh5h9E0ijBgPqH9UgQUzfpl0vKSz4A9mlg',\n  'championId': 11,\n  'championLevel': 7,\n  'championPoints': 109691,\n  'lastPlayTime': 1697230044000,\n  'championPointsSinceLastLevel': 88091,\n  'championPointsUntilNextLevel': 0,\n  'chestGranted': True,\n  'tokensEarned': 0,\n  'summonerId': 'AMusPorQJJ3pVyeXQsn4qCvbfNTnPWbi4crOPJvWJoPJ3OA'},\n {'puuid': 'WOmVc65THRnANkwphrCQVwpvwvIw80oDjegANiw9VdsXuh5h9E0ijBgPqH9UgQUzfpl0vKSz4A9mlg',\n  'championId': 75,\n  'championLevel': 7,\n  'championPoints': 100455,\n  'lastPlayTime': 1687815257000,\n  'championPointsSinceLastLevel': 78855,\n  'championPointsUntilNextLevel': 0,\n  'chestGranted': False,\n  'tokensEarned': 0,\n  'summonerId': 'AMusPorQJJ3pVyeXQsn4qCvbfNTnPWbi4crOPJvWJoPJ3OA'},\n {'puuid': 'WOmVc65THRnANkwphrCQVwpvwvIw80oDjegANiw9VdsXuh5h9E0ijBgPqH9UgQUzfpl0vKSz4A9mlg',\n  'championId': 17,\n  'championLevel': 7,\n  'championPoints': 75091,\n  'lastPlayTime': 1697225684000,\n  'championPointsSinceLastLevel': 53491,\n  'championPointsUntilNextLevel': 0,\n  'chestGranted': True,\n  'tokensEarned': 0,\n  'summonerId': 'AMusPorQJJ3pVyeXQsn4qCvbfNTnPWbi4crOPJvWJoPJ3OA'},\n {'puuid': 'WOmVc65THRnANkwphrCQVwpvwvIw80oDjegANiw9VdsXuh5h9E0ijBgPqH9UgQUzfpl0vKSz4A9mlg',\n  'championId': 91,\n  'championLevel': 7,\n  'championPoints': 71482,\n  'lastPlayTime': 1685054022000,\n  'championPointsSinceLastLevel': 49882,\n  'championPointsUntilNextLevel': 0,\n  'chestGranted': False,\n  'tokensEarned': 0,\n  'summonerId': 'AMusPorQJJ3pVyeXQsn4qCvbfNTnPWbi4crOPJvWJoPJ3OA'},\n {'puuid': 'WOmVc65THRnANkwphrCQVwpvwvIw80oDjegANiw9VdsXuh5h9E0ijBgPqH9UgQUzfpl0vKSz4A9mlg',\n  'championId': 234,\n  'championLevel': 7,\n  'championPoints': 69806,\n  'lastPlayTime': 1697227902000,\n  'championPointsSinceLastLevel': 48206,\n  'championPointsUntilNextLevel': 0,\n  'chestGranted': False,\n  'tokensEarned': 0,\n  'summonerId': 'AMusPorQJJ3pVyeXQsn4qCvbfNTnPWbi4crOPJvWJoPJ3OA'},\n {'puuid': 'WOmVc65THRnANkwphrCQVwpvwvIw80oDjegANiw9VdsXuh5h9E0ijBgPqH9UgQUzfpl0vKSz4A9mlg',\n  'championId': 45,\n  'championLevel': 6,\n  'championPoints': 64545,\n  'lastPlayTime': 1696455027000,\n  'championPointsSinceLastLevel': 42945,\n  'championPointsUntilNextLevel': 0,\n  'chestGranted': True,\n  'tokensEarned': 0,\n  'summonerId': 'AMusPorQJJ3pVyeXQsn4qCvbfNTnPWbi4crOPJvWJoPJ3OA'},\n {'puuid': 'WOmVc65THRnANkwphrCQVwpvwvIw80oDjegANiw9VdsXuh5h9E0ijBgPqH9UgQUzfpl0vKSz4A9mlg',\n  'championId': 235,\n  'championLevel': 7,\n  'championPoints': 58517,\n  'lastPlayTime': 1671405437000,\n  'championPointsSinceLastLevel': 36917,\n  'championPointsUntilNextLevel': 0,\n  'chestGranted': False,\n  'tokensEarned': 0,\n  'summonerId': 'AMusPorQJJ3pVyeXQsn4qCvbfNTnPWbi4crOPJvWJoPJ3OA'},\n {'puuid': 'WOmVc65THRnANkwphrCQVwpvwvIw80oDjegANiw9VdsXuh5h9E0ijBgPqH9UgQUzfpl0vKSz4A9mlg',\n  'championId': 90,\n  'championLevel': 7,\n  'championPoints': 53449,\n  'lastPlayTime': 1697385751000,\n  'championPointsSinceLastLevel': 31849,\n  'championPointsUntilNextLevel': 0,\n  'chestGranted': True,\n  'tokensEarned': 0,\n  'summonerId': 'AMusPorQJJ3pVyeXQsn4qCvbfNTnPWbi4crOPJvWJoPJ3OA'},\n {'puuid': 'WOmVc65THRnANkwphrCQVwpvwvIw80oDjegANiw9VdsXuh5h9E0ijBgPqH9UgQUzfpl0vKSz4A9mlg',\n  'championId': 5,\n  'championLevel': 6,\n  'championPoints': 52063,\n  'lastPlayTime': 1674516463000,\n  'championPointsSinceLastLevel': 30463,\n  'championPointsUntilNextLevel': 0,\n  'chestGranted': False,\n  'tokensEarned': 2,\n  'summonerId': 'AMusPorQJJ3pVyeXQsn4qCvbfNTnPWbi4crOPJvWJoPJ3OA'},\n {'puuid': 'WOmVc65THRnANkwphrCQVwpvwvIw80oDjegANiw9VdsXuh5h9E0ijBgPqH9UgQUzfpl0vKSz4A9mlg',\n  'championId': 38,\n  'championLevel': 7,\n  'championPoints': 47762,\n  'lastPlayTime': 1684963061000,\n  'championPointsSinceLastLevel': 26162,\n  'championPointsUntilNextLevel': 0,\n  'chestGranted': False,\n  'tokensEarned': 0,\n  'summonerId': 'AMusPorQJJ3pVyeXQsn4qCvbfNTnPWbi4crOPJvWJoPJ3OA'},\n {'puuid': 'WOmVc65THRnANkwphrCQVwpvwvIw80oDjegANiw9VdsXuh5h9E0ijBgPqH9UgQUzfpl0vKSz4A9mlg',\n  'championId': 111,\n  'championLevel': 7,\n  'championPoints': 44656,\n  'lastPlayTime': 1654463235000,\n  'championPointsSinceLastLevel': 23056,\n  'championPointsUntilNextLevel': 0,\n  'chestGranted': False,\n  'tokensEarned': 0,\n  'summonerId': 'AMusPorQJJ3pVyeXQsn4qCvbfNTnPWbi4crOPJvWJoPJ3OA'},\n {'puuid': 'WOmVc65THRnANkwphrCQVwpvwvIw80oDjegANiw9VdsXuh5h9E0ijBgPqH9UgQUzfpl0vKSz4A9mlg',\n  'championId': 154,\n  'championLevel': 6,\n  'championPoints': 43131,\n  'lastPlayTime': 1694808632000,\n  'championPointsSinceLastLevel': 21531,\n  'championPointsUntilNextLevel': 0,\n  'chestGranted': True,\n  'tokensEarned': 0,\n  'summonerId': 'AMusPorQJJ3pVyeXQsn4qCvbfNTnPWbi4crOPJvWJoPJ3OA'},\n {'puuid': 'WOmVc65THRnANkwphrCQVwpvwvIw80oDjegANiw9VdsXuh5h9E0ijBgPqH9UgQUzfpl0vKSz4A9mlg',\n  'championId': 25,\n  'championLevel': 7,\n  'championPoints': 42270,\n  'lastPlayTime': 1644998634000,\n  'championPointsSinceLastLevel': 20670,\n  'championPointsUntilNextLevel': 0,\n  'chestGranted': False,\n  'tokensEarned': 0,\n  'summonerId': 'AMusPorQJJ3pVyeXQsn4qCvbfNTnPWbi4crOPJvWJoPJ3OA'},\n {'puuid': 'WOmVc65THRnANkwphrCQVwpvwvIw80oDjegANiw9VdsXuh5h9E0ijBgPqH9UgQUzfpl0vKSz4A9mlg',\n  'championId': 33,\n  'championLevel': 6,\n  'championPoints': 41035,\n  'lastPlayTime': 1688041517000,\n  'championPointsSinceLastLevel': 19435,\n  'championPointsUntilNextLevel': 0,\n  'chestGranted': False,\n  'tokensEarned': 1,\n  'summonerId': 'AMusPorQJJ3pVyeXQsn4qCvbfNTnPWbi4crOPJvWJoPJ3OA'},\n {'puuid': 'WOmVc65THRnANkwphrCQVwpvwvIw80oDjegANiw9VdsXuh5h9E0ijBgPqH9UgQUzfpl0vKSz4A9mlg',\n  'championId': 777,\n  'championLevel': 7,\n  'championPoints': 39604,\n  'lastPlayTime': 1689265366000,\n  'championPointsSinceLastLevel': 18004,\n  'championPointsUntilNextLevel': 0,\n  'chestGranted': False,\n  'tokensEarned': 0,\n  'summonerId': 'AMusPorQJJ3pVyeXQsn4qCvbfNTnPWbi4crOPJvWJoPJ3OA'},\n {'puuid': 'WOmVc65THRnANkwphrCQVwpvwvIw80oDjegANiw9VdsXuh5h9E0ijBgPqH9UgQUzfpl0vKSz4A9mlg',\n  'championId': 85,\n  'championLevel': 6,\n  'championPoints': 39485,\n  'lastPlayTime': 1676054359000,\n  'championPointsSinceLastLevel': 17885,\n  'championPointsUntilNextLevel': 0,\n  'chestGranted': False,\n  'tokensEarned': 0,\n  'summonerId': 'AMusPorQJJ3pVyeXQsn4qCvbfNTnPWbi4crOPJvWJoPJ3OA'},\n {'puuid': 'WOmVc65THRnANkwphrCQVwpvwvIw80oDjegANiw9VdsXuh5h9E0ijBgPqH9UgQUzfpl0vKSz4A9mlg',\n  'championId': 105,\n  'championLevel': 6,\n  'championPoints': 38009,\n  'lastPlayTime': 1691792359000,\n  'championPointsSinceLastLevel': 16409,\n  'championPointsUntilNextLevel': 0,\n  'chestGranted': True,\n  'tokensEarned': 1,\n  'summonerId': 'AMusPorQJJ3pVyeXQsn4qCvbfNTnPWbi4crOPJvWJoPJ3OA'},\n {'puuid': 'WOmVc65THRnANkwphrCQVwpvwvIw80oDjegANiw9VdsXuh5h9E0ijBgPqH9UgQUzfpl0vKSz4A9mlg',\n  'championId': 103,\n  'championLevel': 7,\n  'championPoints': 37533,\n  'lastPlayTime': 1697233707000,\n  'championPointsSinceLastLevel': 15933,\n  'championPointsUntilNextLevel': 0,\n  'chestGranted': False,\n  'tokensEarned': 0,\n  'summonerId': 'AMusPorQJJ3pVyeXQsn4qCvbfNTnPWbi4crOPJvWJoPJ3OA'},\n {'puuid': 'WOmVc65THRnANkwphrCQVwpvwvIw80oDjegANiw9VdsXuh5h9E0ijBgPqH9UgQUzfpl0vKSz4A9mlg',\n  'championId': 1,\n  'championLevel': 5,\n  'championPoints': 33753,\n  'lastPlayTime': 1679436899000,\n  'championPointsSinceLastLevel': 12153,\n  'championPointsUntilNextLevel': 0,\n  'chestGranted': False,\n  'tokensEarned': 0,\n  'summonerId': 'AMusPorQJJ3pVyeXQsn4qCvbfNTnPWbi4crOPJvWJoPJ3OA'},\n {'puuid': 'WOmVc65THRnANkwphrCQVwpvwvIw80oDjegANiw9VdsXuh5h9E0ijBgPqH9UgQUzfpl0vKSz4A9mlg',\n  'championId': 134,\n  'championLevel': 5,\n  'championPoints': 31826,\n  'lastPlayTime': 1666028579000,\n  'championPointsSinceLastLevel': 10226,\n  'championPointsUntilNextLevel': 0,\n  'chestGranted': False,\n  'tokensEarned': 0,\n  'summonerId': 'AMusPorQJJ3pVyeXQsn4qCvbfNTnPWbi4crOPJvWJoPJ3OA'},\n {'puuid': 'WOmVc65THRnANkwphrCQVwpvwvIw80oDjegANiw9VdsXuh5h9E0ijBgPqH9UgQUzfpl0vKSz4A9mlg',\n  'championId': 22,\n  'championLevel': 6,\n  'championPoints': 31309,\n  'lastPlayTime': 1691958543000,\n  'championPointsSinceLastLevel': 9709,\n  'championPointsUntilNextLevel': 0,\n  'chestGranted': True,\n  'tokensEarned': 1,\n  'summonerId': 'AMusPorQJJ3pVyeXQsn4qCvbfNTnPWbi4crOPJvWJoPJ3OA'},\n {'puuid': 'WOmVc65THRnANkwphrCQVwpvwvIw80oDjegANiw9VdsXuh5h9E0ijBgPqH9UgQUzfpl0vKSz4A9mlg',\n  'championId': 107,\n  'championLevel': 6,\n  'championPoints': 30971,\n  'lastPlayTime': 1674082830000,\n  'championPointsSinceLastLevel': 9371,\n  'championPointsUntilNextLevel': 0,\n  'chestGranted': False,\n  'tokensEarned': 0,\n  'summonerId': 'AMusPorQJJ3pVyeXQsn4qCvbfNTnPWbi4crOPJvWJoPJ3OA'},\n {'puuid': 'WOmVc65THRnANkwphrCQVwpvwvIw80oDjegANiw9VdsXuh5h9E0ijBgPqH9UgQUzfpl0vKSz4A9mlg',\n  'championId': 102,\n  'championLevel': 6,\n  'championPoints': 30204,\n  'lastPlayTime': 1668979868000,\n  'championPointsSinceLastLevel': 8604,\n  'championPointsUntilNextLevel': 0,\n  'chestGranted': False,\n  'tokensEarned': 0,\n  'summonerId': 'AMusPorQJJ3pVyeXQsn4qCvbfNTnPWbi4crOPJvWJoPJ3OA'},\n {'puuid': 'WOmVc65THRnANkwphrCQVwpvwvIw80oDjegANiw9VdsXuh5h9E0ijBgPqH9UgQUzfpl0vKSz4A9mlg',\n  'championId': 9,\n  'championLevel': 6,\n  'championPoints': 28992,\n  'lastPlayTime': 1687987730000,\n  'championPointsSinceLastLevel': 7392,\n  'championPointsUntilNextLevel': 0,\n  'chestGranted': False,\n  'tokensEarned': 1,\n  'summonerId': 'AMusPorQJJ3pVyeXQsn4qCvbfNTnPWbi4crOPJvWJoPJ3OA'},\n {'puuid': 'WOmVc65THRnANkwphrCQVwpvwvIw80oDjegANiw9VdsXuh5h9E0ijBgPqH9UgQUzfpl0vKSz4A9mlg',\n  'championId': 10,\n  'championLevel': 5,\n  'championPoints': 26711,\n  'lastPlayTime': 1695239743000,\n  'championPointsSinceLastLevel': 5111,\n  'championPointsUntilNextLevel': 0,\n  'chestGranted': False,\n  'tokensEarned': 0,\n  'summonerId': 'AMusPorQJJ3pVyeXQsn4qCvbfNTnPWbi4crOPJvWJoPJ3OA'},\n {'puuid': 'WOmVc65THRnANkwphrCQVwpvwvIw80oDjegANiw9VdsXuh5h9E0ijBgPqH9UgQUzfpl0vKSz4A9mlg',\n  'championId': 29,\n  'championLevel': 5,\n  'championPoints': 26369,\n  'lastPlayTime': 1667256223000,\n  'championPointsSinceLastLevel': 4769,\n  'championPointsUntilNextLevel': 0,\n  'chestGranted': False,\n  'tokensEarned': 1,\n  'summonerId': 'AMusPorQJJ3pVyeXQsn4qCvbfNTnPWbi4crOPJvWJoPJ3OA'},\n {'puuid': 'WOmVc65THRnANkwphrCQVwpvwvIw80oDjegANiw9VdsXuh5h9E0ijBgPqH9UgQUzfpl0vKSz4A9mlg',\n  'championId': 21,\n  'championLevel': 5,\n  'championPoints': 24663,\n  'lastPlayTime': 1676276482000,\n  'championPointsSinceLastLevel': 3063,\n  'championPointsUntilNextLevel': 0,\n  'chestGranted': False,\n  'tokensEarned': 1,\n  'summonerId': 'AMusPorQJJ3pVyeXQsn4qCvbfNTnPWbi4crOPJvWJoPJ3OA'},\n {'puuid': 'WOmVc65THRnANkwphrCQVwpvwvIw80oDjegANiw9VdsXuh5h9E0ijBgPqH9UgQUzfpl0vKSz4A9mlg',\n  'championId': 18,\n  'championLevel': 5,\n  'championPoints': 23620,\n  'lastPlayTime': 1675809950000,\n  'championPointsSinceLastLevel': 2020,\n  'championPointsUntilNextLevel': 0,\n  'chestGranted': False,\n  'tokensEarned': 0,\n  'summonerId': 'AMusPorQJJ3pVyeXQsn4qCvbfNTnPWbi4crOPJvWJoPJ3OA'},\n {'puuid': 'WOmVc65THRnANkwphrCQVwpvwvIw80oDjegANiw9VdsXuh5h9E0ijBgPqH9UgQUzfpl0vKSz4A9mlg',\n  'championId': 78,\n  'championLevel': 5,\n  'championPoints': 22810,\n  'lastPlayTime': 1696882602000,\n  'championPointsSinceLastLevel': 1210,\n  'championPointsUntilNextLevel': 0,\n  'chestGranted': False,\n  'tokensEarned': 0,\n  'summonerId': 'AMusPorQJJ3pVyeXQsn4qCvbfNTnPWbi4crOPJvWJoPJ3OA'},\n {'puuid': 'WOmVc65THRnANkwphrCQVwpvwvIw80oDjegANiw9VdsXuh5h9E0ijBgPqH9UgQUzfpl0vKSz4A9mlg',\n  'championId': 99,\n  'championLevel': 5,\n  'championPoints': 22586,\n  'lastPlayTime': 1658955707000,\n  'championPointsSinceLastLevel': 986,\n  'championPointsUntilNextLevel': 0,\n  'chestGranted': False,\n  'tokensEarned': 0,\n  'summonerId': 'AMusPorQJJ3pVyeXQsn4qCvbfNTnPWbi4crOPJvWJoPJ3OA'},\n {'puuid': 'WOmVc65THRnANkwphrCQVwpvwvIw80oDjegANiw9VdsXuh5h9E0ijBgPqH9UgQUzfpl0vKSz4A9mlg',\n  'championId': 84,\n  'championLevel': 4,\n  'championPoints': 20517,\n  'lastPlayTime': 1654633198000,\n  'championPointsSinceLastLevel': 7917,\n  'championPointsUntilNextLevel': 1083,\n  'chestGranted': False,\n  'tokensEarned': 0,\n  'summonerId': 'AMusPorQJJ3pVyeXQsn4qCvbfNTnPWbi4crOPJvWJoPJ3OA'},\n {'puuid': 'WOmVc65THRnANkwphrCQVwpvwvIw80oDjegANiw9VdsXuh5h9E0ijBgPqH9UgQUzfpl0vKSz4A9mlg',\n  'championId': 24,\n  'championLevel': 4,\n  'championPoints': 17939,\n  'lastPlayTime': 1666314015000,\n  'championPointsSinceLastLevel': 5339,\n  'championPointsUntilNextLevel': 3661,\n  'chestGranted': False,\n  'tokensEarned': 0,\n  'summonerId': 'AMusPorQJJ3pVyeXQsn4qCvbfNTnPWbi4crOPJvWJoPJ3OA'},\n {'puuid': 'WOmVc65THRnANkwphrCQVwpvwvIw80oDjegANiw9VdsXuh5h9E0ijBgPqH9UgQUzfpl0vKSz4A9mlg',\n  'championId': 39,\n  'championLevel': 4,\n  'championPoints': 17592,\n  'lastPlayTime': 1673906890000,\n  'championPointsSinceLastLevel': 4992,\n  'championPointsUntilNextLevel': 4008,\n  'chestGranted': False,\n  'tokensEarned': 0,\n  'summonerId': 'AMusPorQJJ3pVyeXQsn4qCvbfNTnPWbi4crOPJvWJoPJ3OA'},\n {'puuid': 'WOmVc65THRnANkwphrCQVwpvwvIw80oDjegANiw9VdsXuh5h9E0ijBgPqH9UgQUzfpl0vKSz4A9mlg',\n  'championId': 19,\n  'championLevel': 4,\n  'championPoints': 17515,\n  'lastPlayTime': 1692138687000,\n  'championPointsSinceLastLevel': 4915,\n  'championPointsUntilNextLevel': 4085,\n  'chestGranted': False,\n  'tokensEarned': 0,\n  'summonerId': 'AMusPorQJJ3pVyeXQsn4qCvbfNTnPWbi4crOPJvWJoPJ3OA'},\n {'puuid': 'WOmVc65THRnANkwphrCQVwpvwvIw80oDjegANiw9VdsXuh5h9E0ijBgPqH9UgQUzfpl0vKSz4A9mlg',\n  'championId': 58,\n  'championLevel': 4,\n  'championPoints': 16913,\n  'lastPlayTime': 1688039791000,\n  'championPointsSinceLastLevel': 4313,\n  'championPointsUntilNextLevel': 4687,\n  'chestGranted': False,\n  'tokensEarned': 0,\n  'summonerId': 'AMusPorQJJ3pVyeXQsn4qCvbfNTnPWbi4crOPJvWJoPJ3OA'},\n {'puuid': 'WOmVc65THRnANkwphrCQVwpvwvIw80oDjegANiw9VdsXuh5h9E0ijBgPqH9UgQUzfpl0vKSz4A9mlg',\n  'championId': 82,\n  'championLevel': 4,\n  'championPoints': 15575,\n  'lastPlayTime': 1689285776000,\n  'championPointsSinceLastLevel': 2975,\n  'championPointsUntilNextLevel': 6025,\n  'chestGranted': False,\n  'tokensEarned': 0,\n  'summonerId': 'AMusPorQJJ3pVyeXQsn4qCvbfNTnPWbi4crOPJvWJoPJ3OA'},\n {'puuid': 'WOmVc65THRnANkwphrCQVwpvwvIw80oDjegANiw9VdsXuh5h9E0ijBgPqH9UgQUzfpl0vKSz4A9mlg',\n  'championId': 32,\n  'championLevel': 4,\n  'championPoints': 15394,\n  'lastPlayTime': 1662734461000,\n  'championPointsSinceLastLevel': 2794,\n  'championPointsUntilNextLevel': 6206,\n  'chestGranted': False,\n  'tokensEarned': 0,\n  'summonerId': 'AMusPorQJJ3pVyeXQsn4qCvbfNTnPWbi4crOPJvWJoPJ3OA'},\n {'puuid': 'WOmVc65THRnANkwphrCQVwpvwvIw80oDjegANiw9VdsXuh5h9E0ijBgPqH9UgQUzfpl0vKSz4A9mlg',\n  'championId': 57,\n  'championLevel': 4,\n  'championPoints': 15185,\n  'lastPlayTime': 1691878672000,\n  'championPointsSinceLastLevel': 2585,\n  'championPointsUntilNextLevel': 6415,\n  'chestGranted': False,\n  'tokensEarned': 0,\n  'summonerId': 'AMusPorQJJ3pVyeXQsn4qCvbfNTnPWbi4crOPJvWJoPJ3OA'},\n {'puuid': 'WOmVc65THRnANkwphrCQVwpvwvIw80oDjegANiw9VdsXuh5h9E0ijBgPqH9UgQUzfpl0vKSz4A9mlg',\n  'championId': 16,\n  'championLevel': 4,\n  'championPoints': 14499,\n  'lastPlayTime': 1654453962000,\n  'championPointsSinceLastLevel': 1899,\n  'championPointsUntilNextLevel': 7101,\n  'chestGranted': False,\n  'tokensEarned': 0,\n  'summonerId': 'AMusPorQJJ3pVyeXQsn4qCvbfNTnPWbi4crOPJvWJoPJ3OA'},\n {'puuid': 'WOmVc65THRnANkwphrCQVwpvwvIw80oDjegANiw9VdsXuh5h9E0ijBgPqH9UgQUzfpl0vKSz4A9mlg',\n  'championId': 80,\n  'championLevel': 4,\n  'championPoints': 14164,\n  'lastPlayTime': 1670022869000,\n  'championPointsSinceLastLevel': 1564,\n  'championPointsUntilNextLevel': 7436,\n  'chestGranted': False,\n  'tokensEarned': 0,\n  'summonerId': 'AMusPorQJJ3pVyeXQsn4qCvbfNTnPWbi4crOPJvWJoPJ3OA'},\n {'puuid': 'WOmVc65THRnANkwphrCQVwpvwvIw80oDjegANiw9VdsXuh5h9E0ijBgPqH9UgQUzfpl0vKSz4A9mlg',\n  'championId': 54,\n  'championLevel': 4,\n  'championPoints': 13940,\n  'lastPlayTime': 1687817932000,\n  'championPointsSinceLastLevel': 1340,\n  'championPointsUntilNextLevel': 7660,\n  'chestGranted': False,\n  'tokensEarned': 0,\n  'summonerId': 'AMusPorQJJ3pVyeXQsn4qCvbfNTnPWbi4crOPJvWJoPJ3OA'},\n {'puuid': 'WOmVc65THRnANkwphrCQVwpvwvIw80oDjegANiw9VdsXuh5h9E0ijBgPqH9UgQUzfpl0vKSz4A9mlg',\n  'championId': 20,\n  'championLevel': 4,\n  'championPoints': 13552,\n  'lastPlayTime': 1691883979000,\n  'championPointsSinceLastLevel': 952,\n  'championPointsUntilNextLevel': 8048,\n  'chestGranted': False,\n  'tokensEarned': 0,\n  'summonerId': 'AMusPorQJJ3pVyeXQsn4qCvbfNTnPWbi4crOPJvWJoPJ3OA'},\n {'puuid': 'WOmVc65THRnANkwphrCQVwpvwvIw80oDjegANiw9VdsXuh5h9E0ijBgPqH9UgQUzfpl0vKSz4A9mlg',\n  'championId': 63,\n  'championLevel': 4,\n  'championPoints': 13448,\n  'lastPlayTime': 1666021726000,\n  'championPointsSinceLastLevel': 848,\n  'championPointsUntilNextLevel': 8152,\n  'chestGranted': False,\n  'tokensEarned': 0,\n  'summonerId': 'AMusPorQJJ3pVyeXQsn4qCvbfNTnPWbi4crOPJvWJoPJ3OA'},\n {'puuid': 'WOmVc65THRnANkwphrCQVwpvwvIw80oDjegANiw9VdsXuh5h9E0ijBgPqH9UgQUzfpl0vKSz4A9mlg',\n  'championId': 121,\n  'championLevel': 4,\n  'championPoints': 13189,\n  'lastPlayTime': 1662305790000,\n  'championPointsSinceLastLevel': 589,\n  'championPointsUntilNextLevel': 8411,\n  'chestGranted': False,\n  'tokensEarned': 0,\n  'summonerId': 'AMusPorQJJ3pVyeXQsn4qCvbfNTnPWbi4crOPJvWJoPJ3OA'},\n {'puuid': 'WOmVc65THRnANkwphrCQVwpvwvIw80oDjegANiw9VdsXuh5h9E0ijBgPqH9UgQUzfpl0vKSz4A9mlg',\n  'championId': 43,\n  'championLevel': 4,\n  'championPoints': 12843,\n  'lastPlayTime': 1670703363000,\n  'championPointsSinceLastLevel': 243,\n  'championPointsUntilNextLevel': 8757,\n  'chestGranted': False,\n  'tokensEarned': 0,\n  'summonerId': 'AMusPorQJJ3pVyeXQsn4qCvbfNTnPWbi4crOPJvWJoPJ3OA'},\n {'puuid': 'WOmVc65THRnANkwphrCQVwpvwvIw80oDjegANiw9VdsXuh5h9E0ijBgPqH9UgQUzfpl0vKSz4A9mlg',\n  'championId': 145,\n  'championLevel': 4,\n  'championPoints': 12803,\n  'lastPlayTime': 1689200651000,\n  'championPointsSinceLastLevel': 203,\n  'championPointsUntilNextLevel': 8797,\n  'chestGranted': False,\n  'tokensEarned': 0,\n  'summonerId': 'AMusPorQJJ3pVyeXQsn4qCvbfNTnPWbi4crOPJvWJoPJ3OA'},\n {'puuid': 'WOmVc65THRnANkwphrCQVwpvwvIw80oDjegANiw9VdsXuh5h9E0ijBgPqH9UgQUzfpl0vKSz4A9mlg',\n  'championId': 147,\n  'championLevel': 3,\n  'championPoints': 11441,\n  'lastPlayTime': 1673651088000,\n  'championPointsSinceLastLevel': 5441,\n  'championPointsUntilNextLevel': 1159,\n  'chestGranted': False,\n  'tokensEarned': 0,\n  'summonerId': 'AMusPorQJJ3pVyeXQsn4qCvbfNTnPWbi4crOPJvWJoPJ3OA'},\n {'puuid': 'WOmVc65THRnANkwphrCQVwpvwvIw80oDjegANiw9VdsXuh5h9E0ijBgPqH9UgQUzfpl0vKSz4A9mlg',\n  'championId': 114,\n  'championLevel': 3,\n  'championPoints': 10947,\n  'lastPlayTime': 1665605293000,\n  'championPointsSinceLastLevel': 4947,\n  'championPointsUntilNextLevel': 1653,\n  'chestGranted': False,\n  'tokensEarned': 0,\n  'summonerId': 'AMusPorQJJ3pVyeXQsn4qCvbfNTnPWbi4crOPJvWJoPJ3OA'},\n {'puuid': 'WOmVc65THRnANkwphrCQVwpvwvIw80oDjegANiw9VdsXuh5h9E0ijBgPqH9UgQUzfpl0vKSz4A9mlg',\n  'championId': 8,\n  'championLevel': 3,\n  'championPoints': 10583,\n  'lastPlayTime': 1692051474000,\n  'championPointsSinceLastLevel': 4583,\n  'championPointsUntilNextLevel': 2017,\n  'chestGranted': False,\n  'tokensEarned': 0,\n  'summonerId': 'AMusPorQJJ3pVyeXQsn4qCvbfNTnPWbi4crOPJvWJoPJ3OA'},\n {'puuid': 'WOmVc65THRnANkwphrCQVwpvwvIw80oDjegANiw9VdsXuh5h9E0ijBgPqH9UgQUzfpl0vKSz4A9mlg',\n  'championId': 141,\n  'championLevel': 3,\n  'championPoints': 9547,\n  'lastPlayTime': 1674003389000,\n  'championPointsSinceLastLevel': 3547,\n  'championPointsUntilNextLevel': 3053,\n  'chestGranted': False,\n  'tokensEarned': 0,\n  'summonerId': 'AMusPorQJJ3pVyeXQsn4qCvbfNTnPWbi4crOPJvWJoPJ3OA'},\n {'puuid': 'WOmVc65THRnANkwphrCQVwpvwvIw80oDjegANiw9VdsXuh5h9E0ijBgPqH9UgQUzfpl0vKSz4A9mlg',\n  'championId': 238,\n  'championLevel': 3,\n  'championPoints': 9120,\n  'lastPlayTime': 1649064730000,\n  'championPointsSinceLastLevel': 3120,\n  'championPointsUntilNextLevel': 3480,\n  'chestGranted': False,\n  'tokensEarned': 0,\n  'summonerId': 'AMusPorQJJ3pVyeXQsn4qCvbfNTnPWbi4crOPJvWJoPJ3OA'},\n {'puuid': 'WOmVc65THRnANkwphrCQVwpvwvIw80oDjegANiw9VdsXuh5h9E0ijBgPqH9UgQUzfpl0vKSz4A9mlg',\n  'championId': 31,\n  'championLevel': 3,\n  'championPoints': 8622,\n  'lastPlayTime': 1665601892000,\n  'championPointsSinceLastLevel': 2622,\n  'championPointsUntilNextLevel': 3978,\n  'chestGranted': False,\n  'tokensEarned': 0,\n  'summonerId': 'AMusPorQJJ3pVyeXQsn4qCvbfNTnPWbi4crOPJvWJoPJ3OA'},\n {'puuid': 'WOmVc65THRnANkwphrCQVwpvwvIw80oDjegANiw9VdsXuh5h9E0ijBgPqH9UgQUzfpl0vKSz4A9mlg',\n  'championId': 142,\n  'championLevel': 3,\n  'championPoints': 7903,\n  'lastPlayTime': 1569917667000,\n  'championPointsSinceLastLevel': 1903,\n  'championPointsUntilNextLevel': 4697,\n  'chestGranted': False,\n  'tokensEarned': 0,\n  'summonerId': 'AMusPorQJJ3pVyeXQsn4qCvbfNTnPWbi4crOPJvWJoPJ3OA'},\n {'puuid': 'WOmVc65THRnANkwphrCQVwpvwvIw80oDjegANiw9VdsXuh5h9E0ijBgPqH9UgQUzfpl0vKSz4A9mlg',\n  'championId': 498,\n  'championLevel': 3,\n  'championPoints': 7741,\n  'lastPlayTime': 1691943769000,\n  'championPointsSinceLastLevel': 1741,\n  'championPointsUntilNextLevel': 4859,\n  'chestGranted': True,\n  'tokensEarned': 0,\n  'summonerId': 'AMusPorQJJ3pVyeXQsn4qCvbfNTnPWbi4crOPJvWJoPJ3OA'},\n {'puuid': 'WOmVc65THRnANkwphrCQVwpvwvIw80oDjegANiw9VdsXuh5h9E0ijBgPqH9UgQUzfpl0vKSz4A9mlg',\n  'championId': 53,\n  'championLevel': 3,\n  'championPoints': 7374,\n  'lastPlayTime': 1689430240000,\n  'championPointsSinceLastLevel': 1374,\n  'championPointsUntilNextLevel': 5226,\n  'chestGranted': False,\n  'tokensEarned': 0,\n  'summonerId': 'AMusPorQJJ3pVyeXQsn4qCvbfNTnPWbi4crOPJvWJoPJ3OA'},\n {'puuid': 'WOmVc65THRnANkwphrCQVwpvwvIw80oDjegANiw9VdsXuh5h9E0ijBgPqH9UgQUzfpl0vKSz4A9mlg',\n  'championId': 3,\n  'championLevel': 3,\n  'championPoints': 7313,\n  'lastPlayTime': 1609771678000,\n  'championPointsSinceLastLevel': 1313,\n  'championPointsUntilNextLevel': 5287,\n  'chestGranted': False,\n  'tokensEarned': 0,\n  'summonerId': 'AMusPorQJJ3pVyeXQsn4qCvbfNTnPWbi4crOPJvWJoPJ3OA'},\n {'puuid': 'WOmVc65THRnANkwphrCQVwpvwvIw80oDjegANiw9VdsXuh5h9E0ijBgPqH9UgQUzfpl0vKSz4A9mlg',\n  'championId': 895,\n  'championLevel': 2,\n  'championPoints': 5821,\n  'lastPlayTime': 1696544047000,\n  'championPointsSinceLastLevel': 4021,\n  'championPointsUntilNextLevel': 179,\n  'chestGranted': False,\n  'tokensEarned': 0,\n  'summonerId': 'AMusPorQJJ3pVyeXQsn4qCvbfNTnPWbi4crOPJvWJoPJ3OA'},\n {'puuid': 'WOmVc65THRnANkwphrCQVwpvwvIw80oDjegANiw9VdsXuh5h9E0ijBgPqH9UgQUzfpl0vKSz4A9mlg',\n  'championId': 83,\n  'championLevel': 2,\n  'championPoints': 5582,\n  'lastPlayTime': 1550743600000,\n  'championPointsSinceLastLevel': 3782,\n  'championPointsUntilNextLevel': 418,\n  'chestGranted': False,\n  'tokensEarned': 0,\n  'summonerId': 'AMusPorQJJ3pVyeXQsn4qCvbfNTnPWbi4crOPJvWJoPJ3OA'},\n {'puuid': 'WOmVc65THRnANkwphrCQVwpvwvIw80oDjegANiw9VdsXuh5h9E0ijBgPqH9UgQUzfpl0vKSz4A9mlg',\n  'championId': 74,\n  'championLevel': 2,\n  'championPoints': 5420,\n  'lastPlayTime': 1666464374000,\n  'championPointsSinceLastLevel': 3620,\n  'championPointsUntilNextLevel': 580,\n  'chestGranted': False,\n  'tokensEarned': 0,\n  'summonerId': 'AMusPorQJJ3pVyeXQsn4qCvbfNTnPWbi4crOPJvWJoPJ3OA'},\n {'puuid': 'WOmVc65THRnANkwphrCQVwpvwvIw80oDjegANiw9VdsXuh5h9E0ijBgPqH9UgQUzfpl0vKSz4A9mlg',\n  'championId': 360,\n  'championLevel': 2,\n  'championPoints': 5007,\n  'lastPlayTime': 1658705560000,\n  'championPointsSinceLastLevel': 3207,\n  'championPointsUntilNextLevel': 993,\n  'chestGranted': False,\n  'tokensEarned': 0,\n  'summonerId': 'AMusPorQJJ3pVyeXQsn4qCvbfNTnPWbi4crOPJvWJoPJ3OA'},\n {'puuid': 'WOmVc65THRnANkwphrCQVwpvwvIw80oDjegANiw9VdsXuh5h9E0ijBgPqH9UgQUzfpl0vKSz4A9mlg',\n  'championId': 15,\n  'championLevel': 2,\n  'championPoints': 4842,\n  'lastPlayTime': 1664136682000,\n  'championPointsSinceLastLevel': 3042,\n  'championPointsUntilNextLevel': 1158,\n  'chestGranted': False,\n  'tokensEarned': 0,\n  'summonerId': 'AMusPorQJJ3pVyeXQsn4qCvbfNTnPWbi4crOPJvWJoPJ3OA'},\n {'puuid': 'WOmVc65THRnANkwphrCQVwpvwvIw80oDjegANiw9VdsXuh5h9E0ijBgPqH9UgQUzfpl0vKSz4A9mlg',\n  'championId': 51,\n  'championLevel': 2,\n  'championPoints': 4786,\n  'lastPlayTime': 1654635719000,\n  'championPointsSinceLastLevel': 2986,\n  'championPointsUntilNextLevel': 1214,\n  'chestGranted': False,\n  'tokensEarned': 0,\n  'summonerId': 'AMusPorQJJ3pVyeXQsn4qCvbfNTnPWbi4crOPJvWJoPJ3OA'},\n {'puuid': 'WOmVc65THRnANkwphrCQVwpvwvIw80oDjegANiw9VdsXuh5h9E0ijBgPqH9UgQUzfpl0vKSz4A9mlg',\n  'championId': 2,\n  'championLevel': 2,\n  'championPoints': 4782,\n  'lastPlayTime': 1694871262000,\n  'championPointsSinceLastLevel': 2982,\n  'championPointsUntilNextLevel': 1218,\n  'chestGranted': False,\n  'tokensEarned': 0,\n  'summonerId': 'AMusPorQJJ3pVyeXQsn4qCvbfNTnPWbi4crOPJvWJoPJ3OA'},\n {'puuid': 'WOmVc65THRnANkwphrCQVwpvwvIw80oDjegANiw9VdsXuh5h9E0ijBgPqH9UgQUzfpl0vKSz4A9mlg',\n  'championId': 67,\n  'championLevel': 2,\n  'championPoints': 4623,\n  'lastPlayTime': 1670538731000,\n  'championPointsSinceLastLevel': 2823,\n  'championPointsUntilNextLevel': 1377,\n  'chestGranted': False,\n  'tokensEarned': 0,\n  'summonerId': 'AMusPorQJJ3pVyeXQsn4qCvbfNTnPWbi4crOPJvWJoPJ3OA'},\n {'puuid': 'WOmVc65THRnANkwphrCQVwpvwvIw80oDjegANiw9VdsXuh5h9E0ijBgPqH9UgQUzfpl0vKSz4A9mlg',\n  'championId': 157,\n  'championLevel': 2,\n  'championPoints': 4608,\n  'lastPlayTime': 1522497394000,\n  'championPointsSinceLastLevel': 2808,\n  'championPointsUntilNextLevel': 1392,\n  'chestGranted': False,\n  'tokensEarned': 0,\n  'summonerId': 'AMusPorQJJ3pVyeXQsn4qCvbfNTnPWbi4crOPJvWJoPJ3OA'},\n {'puuid': 'WOmVc65THRnANkwphrCQVwpvwvIw80oDjegANiw9VdsXuh5h9E0ijBgPqH9UgQUzfpl0vKSz4A9mlg',\n  'championId': 106,\n  'championLevel': 2,\n  'championPoints': 4602,\n  'lastPlayTime': 1667084787000,\n  'championPointsSinceLastLevel': 2802,\n  'championPointsUntilNextLevel': 1398,\n  'chestGranted': False,\n  'tokensEarned': 0,\n  'summonerId': 'AMusPorQJJ3pVyeXQsn4qCvbfNTnPWbi4crOPJvWJoPJ3OA'},\n {'puuid': 'WOmVc65THRnANkwphrCQVwpvwvIw80oDjegANiw9VdsXuh5h9E0ijBgPqH9UgQUzfpl0vKSz4A9mlg',\n  'championId': 14,\n  'championLevel': 2,\n  'championPoints': 4529,\n  'lastPlayTime': 1589464071000,\n  'championPointsSinceLastLevel': 2729,\n  'championPointsUntilNextLevel': 1471,\n  'chestGranted': False,\n  'tokensEarned': 0,\n  'summonerId': 'AMusPorQJJ3pVyeXQsn4qCvbfNTnPWbi4crOPJvWJoPJ3OA'},\n {'puuid': 'WOmVc65THRnANkwphrCQVwpvwvIw80oDjegANiw9VdsXuh5h9E0ijBgPqH9UgQUzfpl0vKSz4A9mlg',\n  'championId': 117,\n  'championLevel': 2,\n  'championPoints': 4380,\n  'lastPlayTime': 1654378175000,\n  'championPointsSinceLastLevel': 2580,\n  'championPointsUntilNextLevel': 1620,\n  'chestGranted': False,\n  'tokensEarned': 0,\n  'summonerId': 'AMusPorQJJ3pVyeXQsn4qCvbfNTnPWbi4crOPJvWJoPJ3OA'},\n {'puuid': 'WOmVc65THRnANkwphrCQVwpvwvIw80oDjegANiw9VdsXuh5h9E0ijBgPqH9UgQUzfpl0vKSz4A9mlg',\n  'championId': 254,\n  'championLevel': 2,\n  'championPoints': 4379,\n  'lastPlayTime': 1691608955000,\n  'championPointsSinceLastLevel': 2579,\n  'championPointsUntilNextLevel': 1621,\n  'chestGranted': False,\n  'tokensEarned': 0,\n  'summonerId': 'AMusPorQJJ3pVyeXQsn4qCvbfNTnPWbi4crOPJvWJoPJ3OA'},\n {'puuid': 'WOmVc65THRnANkwphrCQVwpvwvIw80oDjegANiw9VdsXuh5h9E0ijBgPqH9UgQUzfpl0vKSz4A9mlg',\n  'championId': 4,\n  'championLevel': 2,\n  'championPoints': 4363,\n  'lastPlayTime': 1590754442000,\n  'championPointsSinceLastLevel': 2563,\n  'championPointsUntilNextLevel': 1637,\n  'chestGranted': False,\n  'tokensEarned': 0,\n  'summonerId': 'AMusPorQJJ3pVyeXQsn4qCvbfNTnPWbi4crOPJvWJoPJ3OA'},\n {'puuid': 'WOmVc65THRnANkwphrCQVwpvwvIw80oDjegANiw9VdsXuh5h9E0ijBgPqH9UgQUzfpl0vKSz4A9mlg',\n  'championId': 62,\n  'championLevel': 2,\n  'championPoints': 4064,\n  'lastPlayTime': 1670533763000,\n  'championPointsSinceLastLevel': 2264,\n  'championPointsUntilNextLevel': 1936,\n  'chestGranted': False,\n  'tokensEarned': 0,\n  'summonerId': 'AMusPorQJJ3pVyeXQsn4qCvbfNTnPWbi4crOPJvWJoPJ3OA'},\n {'puuid': 'WOmVc65THRnANkwphrCQVwpvwvIw80oDjegANiw9VdsXuh5h9E0ijBgPqH9UgQUzfpl0vKSz4A9mlg',\n  'championId': 555,\n  'championLevel': 2,\n  'championPoints': 3996,\n  'lastPlayTime': 1602926011000,\n  'championPointsSinceLastLevel': 2196,\n  'championPointsUntilNextLevel': 2004,\n  'chestGranted': False,\n  'tokensEarned': 0,\n  'summonerId': 'AMusPorQJJ3pVyeXQsn4qCvbfNTnPWbi4crOPJvWJoPJ3OA'},\n {'puuid': 'WOmVc65THRnANkwphrCQVwpvwvIw80oDjegANiw9VdsXuh5h9E0ijBgPqH9UgQUzfpl0vKSz4A9mlg',\n  'championId': 516,\n  'championLevel': 2,\n  'championPoints': 3955,\n  'lastPlayTime': 1667082431000,\n  'championPointsSinceLastLevel': 2155,\n  'championPointsUntilNextLevel': 2045,\n  'chestGranted': False,\n  'tokensEarned': 0,\n  'summonerId': 'AMusPorQJJ3pVyeXQsn4qCvbfNTnPWbi4crOPJvWJoPJ3OA'},\n {'puuid': 'WOmVc65THRnANkwphrCQVwpvwvIw80oDjegANiw9VdsXuh5h9E0ijBgPqH9UgQUzfpl0vKSz4A9mlg',\n  'championId': 12,\n  'championLevel': 2,\n  'championPoints': 3900,\n  'lastPlayTime': 1617281881000,\n  'championPointsSinceLastLevel': 2100,\n  'championPointsUntilNextLevel': 2100,\n  'chestGranted': False,\n  'tokensEarned': 0,\n  'summonerId': 'AMusPorQJJ3pVyeXQsn4qCvbfNTnPWbi4crOPJvWJoPJ3OA'},\n {'puuid': 'WOmVc65THRnANkwphrCQVwpvwvIw80oDjegANiw9VdsXuh5h9E0ijBgPqH9UgQUzfpl0vKSz4A9mlg',\n  'championId': 127,\n  'championLevel': 2,\n  'championPoints': 3790,\n  'lastPlayTime': 1617285926000,\n  'championPointsSinceLastLevel': 1990,\n  'championPointsUntilNextLevel': 2210,\n  'chestGranted': False,\n  'tokensEarned': 0,\n  'summonerId': 'AMusPorQJJ3pVyeXQsn4qCvbfNTnPWbi4crOPJvWJoPJ3OA'},\n {'puuid': 'WOmVc65THRnANkwphrCQVwpvwvIw80oDjegANiw9VdsXuh5h9E0ijBgPqH9UgQUzfpl0vKSz4A9mlg',\n  'championId': 40,\n  'championLevel': 2,\n  'championPoints': 3595,\n  'lastPlayTime': 1689522778000,\n  'championPointsSinceLastLevel': 1795,\n  'championPointsUntilNextLevel': 2405,\n  'chestGranted': False,\n  'tokensEarned': 0,\n  'summonerId': 'AMusPorQJJ3pVyeXQsn4qCvbfNTnPWbi4crOPJvWJoPJ3OA'},\n {'puuid': 'WOmVc65THRnANkwphrCQVwpvwvIw80oDjegANiw9VdsXuh5h9E0ijBgPqH9UgQUzfpl0vKSz4A9mlg',\n  'championId': 26,\n  'championLevel': 2,\n  'championPoints': 3477,\n  'lastPlayTime': 1612790412000,\n  'championPointsSinceLastLevel': 1677,\n  'championPointsUntilNextLevel': 2523,\n  'chestGranted': False,\n  'tokensEarned': 0,\n  'summonerId': 'AMusPorQJJ3pVyeXQsn4qCvbfNTnPWbi4crOPJvWJoPJ3OA'},\n {'puuid': 'WOmVc65THRnANkwphrCQVwpvwvIw80oDjegANiw9VdsXuh5h9E0ijBgPqH9UgQUzfpl0vKSz4A9mlg',\n  'championId': 61,\n  'championLevel': 2,\n  'championPoints': 3322,\n  'lastPlayTime': 1609166959000,\n  'championPointsSinceLastLevel': 1522,\n  'championPointsUntilNextLevel': 2678,\n  'chestGranted': False,\n  'tokensEarned': 0,\n  'summonerId': 'AMusPorQJJ3pVyeXQsn4qCvbfNTnPWbi4crOPJvWJoPJ3OA'},\n {'puuid': 'WOmVc65THRnANkwphrCQVwpvwvIw80oDjegANiw9VdsXuh5h9E0ijBgPqH9UgQUzfpl0vKSz4A9mlg',\n  'championId': 96,\n  'championLevel': 2,\n  'championPoints': 3088,\n  'lastPlayTime': 1530884701000,\n  'championPointsSinceLastLevel': 1288,\n  'championPointsUntilNextLevel': 2912,\n  'chestGranted': False,\n  'tokensEarned': 0,\n  'summonerId': 'AMusPorQJJ3pVyeXQsn4qCvbfNTnPWbi4crOPJvWJoPJ3OA'},\n {'puuid': 'WOmVc65THRnANkwphrCQVwpvwvIw80oDjegANiw9VdsXuh5h9E0ijBgPqH9UgQUzfpl0vKSz4A9mlg',\n  'championId': 44,\n  'championLevel': 2,\n  'championPoints': 3086,\n  'lastPlayTime': 1666134660000,\n  'championPointsSinceLastLevel': 1286,\n  'championPointsUntilNextLevel': 2914,\n  'chestGranted': False,\n  'tokensEarned': 0,\n  'summonerId': 'AMusPorQJJ3pVyeXQsn4qCvbfNTnPWbi4crOPJvWJoPJ3OA'},\n {'puuid': 'WOmVc65THRnANkwphrCQVwpvwvIw80oDjegANiw9VdsXuh5h9E0ijBgPqH9UgQUzfpl0vKSz4A9mlg',\n  'championId': 89,\n  'championLevel': 2,\n  'championPoints': 3003,\n  'lastPlayTime': 1605788964000,\n  'championPointsSinceLastLevel': 1203,\n  'championPointsUntilNextLevel': 2997,\n  'chestGranted': False,\n  'tokensEarned': 0,\n  'summonerId': 'AMusPorQJJ3pVyeXQsn4qCvbfNTnPWbi4crOPJvWJoPJ3OA'},\n {'puuid': 'WOmVc65THRnANkwphrCQVwpvwvIw80oDjegANiw9VdsXuh5h9E0ijBgPqH9UgQUzfpl0vKSz4A9mlg',\n  'championId': 13,\n  'championLevel': 2,\n  'championPoints': 3002,\n  'lastPlayTime': 1666119038000,\n  'championPointsSinceLastLevel': 1202,\n  'championPointsUntilNextLevel': 2998,\n  'chestGranted': False,\n  'tokensEarned': 0,\n  'summonerId': 'AMusPorQJJ3pVyeXQsn4qCvbfNTnPWbi4crOPJvWJoPJ3OA'},\n {'puuid': 'WOmVc65THRnANkwphrCQVwpvwvIw80oDjegANiw9VdsXuh5h9E0ijBgPqH9UgQUzfpl0vKSz4A9mlg',\n  'championId': 113,\n  'championLevel': 2,\n  'championPoints': 2993,\n  'lastPlayTime': 1688202743000,\n  'championPointsSinceLastLevel': 1193,\n  'championPointsUntilNextLevel': 3007,\n  'chestGranted': False,\n  'tokensEarned': 0,\n  'summonerId': 'AMusPorQJJ3pVyeXQsn4qCvbfNTnPWbi4crOPJvWJoPJ3OA'},\n {'puuid': 'WOmVc65THRnANkwphrCQVwpvwvIw80oDjegANiw9VdsXuh5h9E0ijBgPqH9UgQUzfpl0vKSz4A9mlg',\n  'championId': 30,\n  'championLevel': 2,\n  'championPoints': 2985,\n  'lastPlayTime': 1575296797000,\n  'championPointsSinceLastLevel': 1185,\n  'championPointsUntilNextLevel': 3015,\n  'chestGranted': False,\n  'tokensEarned': 0,\n  'summonerId': 'AMusPorQJJ3pVyeXQsn4qCvbfNTnPWbi4crOPJvWJoPJ3OA'},\n {'puuid': 'WOmVc65THRnANkwphrCQVwpvwvIw80oDjegANiw9VdsXuh5h9E0ijBgPqH9UgQUzfpl0vKSz4A9mlg',\n  'championId': 166,\n  'championLevel': 2,\n  'championPoints': 2568,\n  'lastPlayTime': 1689197979000,\n  'championPointsSinceLastLevel': 768,\n  'championPointsUntilNextLevel': 3432,\n  'chestGranted': False,\n  'tokensEarned': 0,\n  'summonerId': 'AMusPorQJJ3pVyeXQsn4qCvbfNTnPWbi4crOPJvWJoPJ3OA'},\n {'puuid': 'WOmVc65THRnANkwphrCQVwpvwvIw80oDjegANiw9VdsXuh5h9E0ijBgPqH9UgQUzfpl0vKSz4A9mlg',\n  'championId': 72,\n  'championLevel': 2,\n  'championPoints': 2560,\n  'lastPlayTime': 1692228240000,\n  'championPointsSinceLastLevel': 760,\n  'championPointsUntilNextLevel': 3440,\n  'chestGranted': False,\n  'tokensEarned': 0,\n  'summonerId': 'AMusPorQJJ3pVyeXQsn4qCvbfNTnPWbi4crOPJvWJoPJ3OA'},\n {'puuid': 'WOmVc65THRnANkwphrCQVwpvwvIw80oDjegANiw9VdsXuh5h9E0ijBgPqH9UgQUzfpl0vKSz4A9mlg',\n  'championId': 201,\n  'championLevel': 2,\n  'championPoints': 2551,\n  'lastPlayTime': 1572264073000,\n  'championPointsSinceLastLevel': 751,\n  'championPointsUntilNextLevel': 3449,\n  'chestGranted': False,\n  'tokensEarned': 0,\n  'summonerId': 'AMusPorQJJ3pVyeXQsn4qCvbfNTnPWbi4crOPJvWJoPJ3OA'},\n {'puuid': 'WOmVc65THRnANkwphrCQVwpvwvIw80oDjegANiw9VdsXuh5h9E0ijBgPqH9UgQUzfpl0vKSz4A9mlg',\n  'championId': 266,\n  'championLevel': 2,\n  'championPoints': 2534,\n  'lastPlayTime': 1657050594000,\n  'championPointsSinceLastLevel': 734,\n  'championPointsUntilNextLevel': 3466,\n  'chestGranted': False,\n  'tokensEarned': 0,\n  'summonerId': 'AMusPorQJJ3pVyeXQsn4qCvbfNTnPWbi4crOPJvWJoPJ3OA'},\n {'puuid': 'WOmVc65THRnANkwphrCQVwpvwvIw80oDjegANiw9VdsXuh5h9E0ijBgPqH9UgQUzfpl0vKSz4A9mlg',\n  'championId': 150,\n  'championLevel': 2,\n  'championPoints': 2403,\n  'lastPlayTime': 1514242246000,\n  'championPointsSinceLastLevel': 603,\n  'championPointsUntilNextLevel': 3597,\n  'chestGranted': False,\n  'tokensEarned': 0,\n  'summonerId': 'AMusPorQJJ3pVyeXQsn4qCvbfNTnPWbi4crOPJvWJoPJ3OA'},\n {'puuid': 'WOmVc65THRnANkwphrCQVwpvwvIw80oDjegANiw9VdsXuh5h9E0ijBgPqH9UgQUzfpl0vKSz4A9mlg',\n  'championId': 69,\n  'championLevel': 2,\n  'championPoints': 2013,\n  'lastPlayTime': 1652032872000,\n  'championPointsSinceLastLevel': 213,\n  'championPointsUntilNextLevel': 3987,\n  'chestGranted': False,\n  'tokensEarned': 0,\n  'summonerId': 'AMusPorQJJ3pVyeXQsn4qCvbfNTnPWbi4crOPJvWJoPJ3OA'},\n {'puuid': 'WOmVc65THRnANkwphrCQVwpvwvIw80oDjegANiw9VdsXuh5h9E0ijBgPqH9UgQUzfpl0vKSz4A9mlg',\n  'championId': 7,\n  'championLevel': 2,\n  'championPoints': 1816,\n  'lastPlayTime': 1588766733000,\n  'championPointsSinceLastLevel': 16,\n  'championPointsUntilNextLevel': 4184,\n  'chestGranted': False,\n  'tokensEarned': 0,\n  'summonerId': 'AMusPorQJJ3pVyeXQsn4qCvbfNTnPWbi4crOPJvWJoPJ3OA'},\n {'puuid': 'WOmVc65THRnANkwphrCQVwpvwvIw80oDjegANiw9VdsXuh5h9E0ijBgPqH9UgQUzfpl0vKSz4A9mlg',\n  'championId': 497,\n  'championLevel': 1,\n  'championPoints': 1731,\n  'lastPlayTime': 1689428995000,\n  'championPointsSinceLastLevel': 1731,\n  'championPointsUntilNextLevel': 69,\n  'chestGranted': False,\n  'tokensEarned': 0,\n  'summonerId': 'AMusPorQJJ3pVyeXQsn4qCvbfNTnPWbi4crOPJvWJoPJ3OA'},\n {'puuid': 'WOmVc65THRnANkwphrCQVwpvwvIw80oDjegANiw9VdsXuh5h9E0ijBgPqH9UgQUzfpl0vKSz4A9mlg',\n  'championId': 48,\n  'championLevel': 1,\n  'championPoints': 1673,\n  'lastPlayTime': 1668906076000,\n  'championPointsSinceLastLevel': 1673,\n  'championPointsUntilNextLevel': 127,\n  'chestGranted': False,\n  'tokensEarned': 0,\n  'summonerId': 'AMusPorQJJ3pVyeXQsn4qCvbfNTnPWbi4crOPJvWJoPJ3OA'},\n {'puuid': 'WOmVc65THRnANkwphrCQVwpvwvIw80oDjegANiw9VdsXuh5h9E0ijBgPqH9UgQUzfpl0vKSz4A9mlg',\n  'championId': 81,\n  'championLevel': 1,\n  'championPoints': 1667,\n  'lastPlayTime': 1619344636000,\n  'championPointsSinceLastLevel': 1667,\n  'championPointsUntilNextLevel': 133,\n  'chestGranted': False,\n  'tokensEarned': 0,\n  'summonerId': 'AMusPorQJJ3pVyeXQsn4qCvbfNTnPWbi4crOPJvWJoPJ3OA'},\n {'puuid': 'WOmVc65THRnANkwphrCQVwpvwvIw80oDjegANiw9VdsXuh5h9E0ijBgPqH9UgQUzfpl0vKSz4A9mlg',\n  'championId': 28,\n  'championLevel': 1,\n  'championPoints': 1604,\n  'lastPlayTime': 1605529150000,\n  'championPointsSinceLastLevel': 1604,\n  'championPointsUntilNextLevel': 196,\n  'chestGranted': False,\n  'tokensEarned': 0,\n  'summonerId': 'AMusPorQJJ3pVyeXQsn4qCvbfNTnPWbi4crOPJvWJoPJ3OA'},\n {'puuid': 'WOmVc65THRnANkwphrCQVwpvwvIw80oDjegANiw9VdsXuh5h9E0ijBgPqH9UgQUzfpl0vKSz4A9mlg',\n  'championId': 350,\n  'championLevel': 1,\n  'championPoints': 1473,\n  'lastPlayTime': 1665604270000,\n  'championPointsSinceLastLevel': 1473,\n  'championPointsUntilNextLevel': 327,\n  'chestGranted': False,\n  'tokensEarned': 0,\n  'summonerId': 'AMusPorQJJ3pVyeXQsn4qCvbfNTnPWbi4crOPJvWJoPJ3OA'},\n {'puuid': 'WOmVc65THRnANkwphrCQVwpvwvIw80oDjegANiw9VdsXuh5h9E0ijBgPqH9UgQUzfpl0vKSz4A9mlg',\n  'championId': 122,\n  'championLevel': 1,\n  'championPoints': 1450,\n  'lastPlayTime': 1612696493000,\n  'championPointsSinceLastLevel': 1450,\n  'championPointsUntilNextLevel': 350,\n  'chestGranted': False,\n  'tokensEarned': 0,\n  'summonerId': 'AMusPorQJJ3pVyeXQsn4qCvbfNTnPWbi4crOPJvWJoPJ3OA'},\n {'puuid': 'WOmVc65THRnANkwphrCQVwpvwvIw80oDjegANiw9VdsXuh5h9E0ijBgPqH9UgQUzfpl0vKSz4A9mlg',\n  'championId': 136,\n  'championLevel': 1,\n  'championPoints': 1419,\n  'lastPlayTime': 1689370297000,\n  'championPointsSinceLastLevel': 1419,\n  'championPointsUntilNextLevel': 381,\n  'chestGranted': False,\n  'tokensEarned': 0,\n  'summonerId': 'AMusPorQJJ3pVyeXQsn4qCvbfNTnPWbi4crOPJvWJoPJ3OA'},\n {'puuid': 'WOmVc65THRnANkwphrCQVwpvwvIw80oDjegANiw9VdsXuh5h9E0ijBgPqH9UgQUzfpl0vKSz4A9mlg',\n  'championId': 34,\n  'championLevel': 1,\n  'championPoints': 1404,\n  'lastPlayTime': 1618810125000,\n  'championPointsSinceLastLevel': 1404,\n  'championPointsUntilNextLevel': 396,\n  'chestGranted': False,\n  'tokensEarned': 0,\n  'summonerId': 'AMusPorQJJ3pVyeXQsn4qCvbfNTnPWbi4crOPJvWJoPJ3OA'},\n {'puuid': 'WOmVc65THRnANkwphrCQVwpvwvIw80oDjegANiw9VdsXuh5h9E0ijBgPqH9UgQUzfpl0vKSz4A9mlg',\n  'championId': 523,\n  'championLevel': 1,\n  'championPoints': 1386,\n  'lastPlayTime': 1670536378000,\n  'championPointsSinceLastLevel': 1386,\n  'championPointsUntilNextLevel': 414,\n  'chestGranted': False,\n  'tokensEarned': 0,\n  'summonerId': 'AMusPorQJJ3pVyeXQsn4qCvbfNTnPWbi4crOPJvWJoPJ3OA'},\n {'puuid': 'WOmVc65THRnANkwphrCQVwpvwvIw80oDjegANiw9VdsXuh5h9E0ijBgPqH9UgQUzfpl0vKSz4A9mlg',\n  'championId': 64,\n  'championLevel': 1,\n  'championPoints': 1354,\n  'lastPlayTime': 1522523302000,\n  'championPointsSinceLastLevel': 1354,\n  'championPointsUntilNextLevel': 446,\n  'chestGranted': False,\n  'tokensEarned': 0,\n  'summonerId': 'AMusPorQJJ3pVyeXQsn4qCvbfNTnPWbi4crOPJvWJoPJ3OA'},\n {'puuid': 'WOmVc65THRnANkwphrCQVwpvwvIw80oDjegANiw9VdsXuh5h9E0ijBgPqH9UgQUzfpl0vKSz4A9mlg',\n  'championId': 412,\n  'championLevel': 1,\n  'championPoints': 1332,\n  'lastPlayTime': 1614167920000,\n  'championPointsSinceLastLevel': 1332,\n  'championPointsUntilNextLevel': 468,\n  'chestGranted': False,\n  'tokensEarned': 0,\n  'summonerId': 'AMusPorQJJ3pVyeXQsn4qCvbfNTnPWbi4crOPJvWJoPJ3OA'},\n {'puuid': 'WOmVc65THRnANkwphrCQVwpvwvIw80oDjegANiw9VdsXuh5h9E0ijBgPqH9UgQUzfpl0vKSz4A9mlg',\n  'championId': 268,\n  'championLevel': 1,\n  'championPoints': 1324,\n  'lastPlayTime': 1629731976000,\n  'championPointsSinceLastLevel': 1324,\n  'championPointsUntilNextLevel': 476,\n  'chestGranted': False,\n  'tokensEarned': 0,\n  'summonerId': 'AMusPorQJJ3pVyeXQsn4qCvbfNTnPWbi4crOPJvWJoPJ3OA'},\n {'puuid': 'WOmVc65THRnANkwphrCQVwpvwvIw80oDjegANiw9VdsXuh5h9E0ijBgPqH9UgQUzfpl0vKSz4A9mlg',\n  'championId': 37,\n  'championLevel': 1,\n  'championPoints': 1313,\n  'lastPlayTime': 1518964103000,\n  'championPointsSinceLastLevel': 1313,\n  'championPointsUntilNextLevel': 487,\n  'chestGranted': False,\n  'tokensEarned': 0,\n  'summonerId': 'AMusPorQJJ3pVyeXQsn4qCvbfNTnPWbi4crOPJvWJoPJ3OA'},\n {'puuid': 'WOmVc65THRnANkwphrCQVwpvwvIw80oDjegANiw9VdsXuh5h9E0ijBgPqH9UgQUzfpl0vKSz4A9mlg',\n  'championId': 98,\n  'championLevel': 1,\n  'championPoints': 1246,\n  'lastPlayTime': 1665655112000,\n  'championPointsSinceLastLevel': 1246,\n  'championPointsUntilNextLevel': 554,\n  'chestGranted': False,\n  'tokensEarned': 0,\n  'summonerId': 'AMusPorQJJ3pVyeXQsn4qCvbfNTnPWbi4crOPJvWJoPJ3OA'},\n {'puuid': 'WOmVc65THRnANkwphrCQVwpvwvIw80oDjegANiw9VdsXuh5h9E0ijBgPqH9UgQUzfpl0vKSz4A9mlg',\n  'championId': 50,\n  'championLevel': 1,\n  'championPoints': 1230,\n  'lastPlayTime': 1691444501000,\n  'championPointsSinceLastLevel': 1230,\n  'championPointsUntilNextLevel': 570,\n  'chestGranted': False,\n  'tokensEarned': 0,\n  'summonerId': 'AMusPorQJJ3pVyeXQsn4qCvbfNTnPWbi4crOPJvWJoPJ3OA'},\n {'puuid': 'WOmVc65THRnANkwphrCQVwpvwvIw80oDjegANiw9VdsXuh5h9E0ijBgPqH9UgQUzfpl0vKSz4A9mlg',\n  'championId': 133,\n  'championLevel': 1,\n  'championPoints': 1229,\n  'lastPlayTime': 1658700376000,\n  'championPointsSinceLastLevel': 1229,\n  'championPointsUntilNextLevel': 571,\n  'chestGranted': False,\n  'tokensEarned': 0,\n  'summonerId': 'AMusPorQJJ3pVyeXQsn4qCvbfNTnPWbi4crOPJvWJoPJ3OA'},\n {'puuid': 'WOmVc65THRnANkwphrCQVwpvwvIw80oDjegANiw9VdsXuh5h9E0ijBgPqH9UgQUzfpl0vKSz4A9mlg',\n  'championId': 888,\n  'championLevel': 1,\n  'championPoints': 1217,\n  'lastPlayTime': 1665259714000,\n  'championPointsSinceLastLevel': 1217,\n  'championPointsUntilNextLevel': 583,\n  'chestGranted': False,\n  'tokensEarned': 0,\n  'summonerId': 'AMusPorQJJ3pVyeXQsn4qCvbfNTnPWbi4crOPJvWJoPJ3OA'},\n {'puuid': 'WOmVc65THRnANkwphrCQVwpvwvIw80oDjegANiw9VdsXuh5h9E0ijBgPqH9UgQUzfpl0vKSz4A9mlg',\n  'championId': 6,\n  'championLevel': 1,\n  'championPoints': 1217,\n  'lastPlayTime': 1539350227000,\n  'championPointsSinceLastLevel': 1217,\n  'championPointsUntilNextLevel': 583,\n  'chestGranted': False,\n  'tokensEarned': 0,\n  'summonerId': 'AMusPorQJJ3pVyeXQsn4qCvbfNTnPWbi4crOPJvWJoPJ3OA'},\n {'puuid': 'WOmVc65THRnANkwphrCQVwpvwvIw80oDjegANiw9VdsXuh5h9E0ijBgPqH9UgQUzfpl0vKSz4A9mlg',\n  'championId': 200,\n  'championLevel': 1,\n  'championPoints': 1196,\n  'lastPlayTime': 1673479065000,\n  'championPointsSinceLastLevel': 1196,\n  'championPointsUntilNextLevel': 604,\n  'chestGranted': False,\n  'tokensEarned': 0,\n  'summonerId': 'AMusPorQJJ3pVyeXQsn4qCvbfNTnPWbi4crOPJvWJoPJ3OA'},\n {'puuid': 'WOmVc65THRnANkwphrCQVwpvwvIw80oDjegANiw9VdsXuh5h9E0ijBgPqH9UgQUzfpl0vKSz4A9mlg',\n  'championId': 711,\n  'championLevel': 1,\n  'championPoints': 1188,\n  'lastPlayTime': 1665610808000,\n  'championPointsSinceLastLevel': 1188,\n  'championPointsUntilNextLevel': 612,\n  'chestGranted': False,\n  'tokensEarned': 0,\n  'summonerId': 'AMusPorQJJ3pVyeXQsn4qCvbfNTnPWbi4crOPJvWJoPJ3OA'},\n {'puuid': 'WOmVc65THRnANkwphrCQVwpvwvIw80oDjegANiw9VdsXuh5h9E0ijBgPqH9UgQUzfpl0vKSz4A9mlg',\n  'championId': 110,\n  'championLevel': 1,\n  'championPoints': 1170,\n  'lastPlayTime': 1666913201000,\n  'championPointsSinceLastLevel': 1170,\n  'championPointsUntilNextLevel': 630,\n  'chestGranted': False,\n  'tokensEarned': 0,\n  'summonerId': 'AMusPorQJJ3pVyeXQsn4qCvbfNTnPWbi4crOPJvWJoPJ3OA'},\n {'puuid': 'WOmVc65THRnANkwphrCQVwpvwvIw80oDjegANiw9VdsXuh5h9E0ijBgPqH9UgQUzfpl0vKSz4A9mlg',\n  'championId': 222,\n  'championLevel': 1,\n  'championPoints': 1140,\n  'lastPlayTime': 1654903470000,\n  'championPointsSinceLastLevel': 1140,\n  'championPointsUntilNextLevel': 660,\n  'chestGranted': False,\n  'tokensEarned': 0,\n  'summonerId': 'AMusPorQJJ3pVyeXQsn4qCvbfNTnPWbi4crOPJvWJoPJ3OA'},\n {'puuid': 'WOmVc65THRnANkwphrCQVwpvwvIw80oDjegANiw9VdsXuh5h9E0ijBgPqH9UgQUzfpl0vKSz4A9mlg',\n  'championId': 35,\n  'championLevel': 1,\n  'championPoints': 1111,\n  'lastPlayTime': 1587315986000,\n  'championPointsSinceLastLevel': 1111,\n  'championPointsUntilNextLevel': 689,\n  'chestGranted': False,\n  'tokensEarned': 0,\n  'summonerId': 'AMusPorQJJ3pVyeXQsn4qCvbfNTnPWbi4crOPJvWJoPJ3OA'},\n {'puuid': 'WOmVc65THRnANkwphrCQVwpvwvIw80oDjegANiw9VdsXuh5h9E0ijBgPqH9UgQUzfpl0vKSz4A9mlg',\n  'championId': 27,\n  'championLevel': 1,\n  'championPoints': 1105,\n  'lastPlayTime': 1531133110000,\n  'championPointsSinceLastLevel': 1105,\n  'championPointsUntilNextLevel': 695,\n  'chestGranted': False,\n  'tokensEarned': 0,\n  'summonerId': 'AMusPorQJJ3pVyeXQsn4qCvbfNTnPWbi4crOPJvWJoPJ3OA'},\n {'puuid': 'WOmVc65THRnANkwphrCQVwpvwvIw80oDjegANiw9VdsXuh5h9E0ijBgPqH9UgQUzfpl0vKSz4A9mlg',\n  'championId': 92,\n  'championLevel': 1,\n  'championPoints': 1078,\n  'lastPlayTime': 1512578016000,\n  'championPointsSinceLastLevel': 1078,\n  'championPointsUntilNextLevel': 722,\n  'chestGranted': False,\n  'tokensEarned': 0,\n  'summonerId': 'AMusPorQJJ3pVyeXQsn4qCvbfNTnPWbi4crOPJvWJoPJ3OA'},\n {'puuid': 'WOmVc65THRnANkwphrCQVwpvwvIw80oDjegANiw9VdsXuh5h9E0ijBgPqH9UgQUzfpl0vKSz4A9mlg',\n  'championId': 203,\n  'championLevel': 1,\n  'championPoints': 1054,\n  'lastPlayTime': 1648119033000,\n  'championPointsSinceLastLevel': 1054,\n  'championPointsUntilNextLevel': 746,\n  'chestGranted': False,\n  'tokensEarned': 0,\n  'summonerId': 'AMusPorQJJ3pVyeXQsn4qCvbfNTnPWbi4crOPJvWJoPJ3OA'},\n {'puuid': 'WOmVc65THRnANkwphrCQVwpvwvIw80oDjegANiw9VdsXuh5h9E0ijBgPqH9UgQUzfpl0vKSz4A9mlg',\n  'championId': 126,\n  'championLevel': 1,\n  'championPoints': 872,\n  'lastPlayTime': 1585647191000,\n  'championPointsSinceLastLevel': 872,\n  'championPointsUntilNextLevel': 928,\n  'chestGranted': False,\n  'tokensEarned': 0,\n  'summonerId': 'AMusPorQJJ3pVyeXQsn4qCvbfNTnPWbi4crOPJvWJoPJ3OA'},\n {'puuid': 'WOmVc65THRnANkwphrCQVwpvwvIw80oDjegANiw9VdsXuh5h9E0ijBgPqH9UgQUzfpl0vKSz4A9mlg',\n  'championId': 161,\n  'championLevel': 1,\n  'championPoints': 869,\n  'lastPlayTime': 1585577080000,\n  'championPointsSinceLastLevel': 869,\n  'championPointsUntilNextLevel': 931,\n  'chestGranted': False,\n  'tokensEarned': 0,\n  'summonerId': 'AMusPorQJJ3pVyeXQsn4qCvbfNTnPWbi4crOPJvWJoPJ3OA'},\n {'puuid': 'WOmVc65THRnANkwphrCQVwpvwvIw80oDjegANiw9VdsXuh5h9E0ijBgPqH9UgQUzfpl0vKSz4A9mlg',\n  'championId': 427,\n  'championLevel': 1,\n  'championPoints': 846,\n  'lastPlayTime': 1687319676000,\n  'championPointsSinceLastLevel': 846,\n  'championPointsUntilNextLevel': 954,\n  'chestGranted': False,\n  'tokensEarned': 0,\n  'summonerId': 'AMusPorQJJ3pVyeXQsn4qCvbfNTnPWbi4crOPJvWJoPJ3OA'},\n {'puuid': 'WOmVc65THRnANkwphrCQVwpvwvIw80oDjegANiw9VdsXuh5h9E0ijBgPqH9UgQUzfpl0vKSz4A9mlg',\n  'championId': 101,\n  'championLevel': 1,\n  'championPoints': 839,\n  'lastPlayTime': 1509475901000,\n  'championPointsSinceLastLevel': 839,\n  'championPointsUntilNextLevel': 961,\n  'chestGranted': False,\n  'tokensEarned': 0,\n  'summonerId': 'AMusPorQJJ3pVyeXQsn4qCvbfNTnPWbi4crOPJvWJoPJ3OA'},\n {'puuid': 'WOmVc65THRnANkwphrCQVwpvwvIw80oDjegANiw9VdsXuh5h9E0ijBgPqH9UgQUzfpl0vKSz4A9mlg',\n  'championId': 223,\n  'championLevel': 1,\n  'championPoints': 838,\n  'lastPlayTime': 1654207796000,\n  'championPointsSinceLastLevel': 838,\n  'championPointsUntilNextLevel': 962,\n  'chestGranted': False,\n  'tokensEarned': 0,\n  'summonerId': 'AMusPorQJJ3pVyeXQsn4qCvbfNTnPWbi4crOPJvWJoPJ3OA'},\n {'puuid': 'WOmVc65THRnANkwphrCQVwpvwvIw80oDjegANiw9VdsXuh5h9E0ijBgPqH9UgQUzfpl0vKSz4A9mlg',\n  'championId': 518,\n  'championLevel': 1,\n  'championPoints': 799,\n  'lastPlayTime': 1654630149000,\n  'championPointsSinceLastLevel': 799,\n  'championPointsUntilNextLevel': 1001,\n  'chestGranted': False,\n  'tokensEarned': 0,\n  'summonerId': 'AMusPorQJJ3pVyeXQsn4qCvbfNTnPWbi4crOPJvWJoPJ3OA'},\n {'puuid': 'WOmVc65THRnANkwphrCQVwpvwvIw80oDjegANiw9VdsXuh5h9E0ijBgPqH9UgQUzfpl0vKSz4A9mlg',\n  'championId': 76,\n  'championLevel': 1,\n  'championPoints': 791,\n  'lastPlayTime': 1610699925000,\n  'championPointsSinceLastLevel': 791,\n  'championPointsUntilNextLevel': 1009,\n  'chestGranted': False,\n  'tokensEarned': 0,\n  'summonerId': 'AMusPorQJJ3pVyeXQsn4qCvbfNTnPWbi4crOPJvWJoPJ3OA'},\n {'puuid': 'WOmVc65THRnANkwphrCQVwpvwvIw80oDjegANiw9VdsXuh5h9E0ijBgPqH9UgQUzfpl0vKSz4A9mlg',\n  'championId': 115,\n  'championLevel': 1,\n  'championPoints': 757,\n  'lastPlayTime': 1585580210000,\n  'championPointsSinceLastLevel': 757,\n  'championPointsUntilNextLevel': 1043,\n  'chestGranted': False,\n  'tokensEarned': 0,\n  'summonerId': 'AMusPorQJJ3pVyeXQsn4qCvbfNTnPWbi4crOPJvWJoPJ3OA'},\n {'puuid': 'WOmVc65THRnANkwphrCQVwpvwvIw80oDjegANiw9VdsXuh5h9E0ijBgPqH9UgQUzfpl0vKSz4A9mlg',\n  'championId': 245,\n  'championLevel': 1,\n  'championPoints': 750,\n  'lastPlayTime': 1689278118000,\n  'championPointsSinceLastLevel': 750,\n  'championPointsUntilNextLevel': 1050,\n  'chestGranted': False,\n  'tokensEarned': 0,\n  'summonerId': 'AMusPorQJJ3pVyeXQsn4qCvbfNTnPWbi4crOPJvWJoPJ3OA'},\n {'puuid': 'WOmVc65THRnANkwphrCQVwpvwvIw80oDjegANiw9VdsXuh5h9E0ijBgPqH9UgQUzfpl0vKSz4A9mlg',\n  'championId': 240,\n  'championLevel': 1,\n  'championPoints': 748,\n  'lastPlayTime': 1572699471000,\n  'championPointsSinceLastLevel': 748,\n  'championPointsUntilNextLevel': 1052,\n  'chestGranted': False,\n  'tokensEarned': 0,\n  'summonerId': 'AMusPorQJJ3pVyeXQsn4qCvbfNTnPWbi4crOPJvWJoPJ3OA'},\n {'puuid': 'WOmVc65THRnANkwphrCQVwpvwvIw80oDjegANiw9VdsXuh5h9E0ijBgPqH9UgQUzfpl0vKSz4A9mlg',\n  'championId': 526,\n  'championLevel': 1,\n  'championPoints': 687,\n  'lastPlayTime': 1687318989000,\n  'championPointsSinceLastLevel': 687,\n  'championPointsUntilNextLevel': 1113,\n  'chestGranted': False,\n  'tokensEarned': 0,\n  'summonerId': 'AMusPorQJJ3pVyeXQsn4qCvbfNTnPWbi4crOPJvWJoPJ3OA'},\n {'puuid': 'WOmVc65THRnANkwphrCQVwpvwvIw80oDjegANiw9VdsXuh5h9E0ijBgPqH9UgQUzfpl0vKSz4A9mlg',\n  'championId': 42,\n  'championLevel': 1,\n  'championPoints': 677,\n  'lastPlayTime': 1575630938000,\n  'championPointsSinceLastLevel': 677,\n  'championPointsUntilNextLevel': 1123,\n  'chestGranted': False,\n  'tokensEarned': 0,\n  'summonerId': 'AMusPorQJJ3pVyeXQsn4qCvbfNTnPWbi4crOPJvWJoPJ3OA'},\n {'puuid': 'WOmVc65THRnANkwphrCQVwpvwvIw80oDjegANiw9VdsXuh5h9E0ijBgPqH9UgQUzfpl0vKSz4A9mlg',\n  'championId': 120,\n  'championLevel': 1,\n  'championPoints': 467,\n  'lastPlayTime': 1679759445000,\n  'championPointsSinceLastLevel': 467,\n  'championPointsUntilNextLevel': 1333,\n  'chestGranted': False,\n  'tokensEarned': 0,\n  'summonerId': 'AMusPorQJJ3pVyeXQsn4qCvbfNTnPWbi4crOPJvWJoPJ3OA'},\n {'puuid': 'WOmVc65THRnANkwphrCQVwpvwvIw80oDjegANiw9VdsXuh5h9E0ijBgPqH9UgQUzfpl0vKSz4A9mlg',\n  'championId': 36,\n  'championLevel': 1,\n  'championPoints': 423,\n  'lastPlayTime': 1674139764000,\n  'championPointsSinceLastLevel': 423,\n  'championPointsUntilNextLevel': 1377,\n  'chestGranted': False,\n  'tokensEarned': 0,\n  'summonerId': 'AMusPorQJJ3pVyeXQsn4qCvbfNTnPWbi4crOPJvWJoPJ3OA'},\n {'puuid': 'WOmVc65THRnANkwphrCQVwpvwvIw80oDjegANiw9VdsXuh5h9E0ijBgPqH9UgQUzfpl0vKSz4A9mlg',\n  'championId': 875,\n  'championLevel': 1,\n  'championPoints': 413,\n  'lastPlayTime': 1627047239000,\n  'championPointsSinceLastLevel': 413,\n  'championPointsUntilNextLevel': 1387,\n  'chestGranted': False,\n  'tokensEarned': 0,\n  'summonerId': 'AMusPorQJJ3pVyeXQsn4qCvbfNTnPWbi4crOPJvWJoPJ3OA'},\n {'puuid': 'WOmVc65THRnANkwphrCQVwpvwvIw80oDjegANiw9VdsXuh5h9E0ijBgPqH9UgQUzfpl0vKSz4A9mlg',\n  'championId': 432,\n  'championLevel': 1,\n  'championPoints': 385,\n  'lastPlayTime': 1587644263000,\n  'championPointsSinceLastLevel': 385,\n  'championPointsUntilNextLevel': 1415,\n  'chestGranted': False,\n  'tokensEarned': 0,\n  'summonerId': 'AMusPorQJJ3pVyeXQsn4qCvbfNTnPWbi4crOPJvWJoPJ3OA'},\n {'puuid': 'WOmVc65THRnANkwphrCQVwpvwvIw80oDjegANiw9VdsXuh5h9E0ijBgPqH9UgQUzfpl0vKSz4A9mlg',\n  'championId': 421,\n  'championLevel': 1,\n  'championPoints': 342,\n  'lastPlayTime': 1658670401000,\n  'championPointsSinceLastLevel': 342,\n  'championPointsUntilNextLevel': 1458,\n  'chestGranted': False,\n  'tokensEarned': 0,\n  'summonerId': 'AMusPorQJJ3pVyeXQsn4qCvbfNTnPWbi4crOPJvWJoPJ3OA'},\n {'puuid': 'WOmVc65THRnANkwphrCQVwpvwvIw80oDjegANiw9VdsXuh5h9E0ijBgPqH9UgQUzfpl0vKSz4A9mlg',\n  'championId': 55,\n  'championLevel': 1,\n  'championPoints': 304,\n  'lastPlayTime': 1527326047000,\n  'championPointsSinceLastLevel': 304,\n  'championPointsUntilNextLevel': 1496,\n  'chestGranted': False,\n  'tokensEarned': 0,\n  'summonerId': 'AMusPorQJJ3pVyeXQsn4qCvbfNTnPWbi4crOPJvWJoPJ3OA'},\n {'puuid': 'WOmVc65THRnANkwphrCQVwpvwvIw80oDjegANiw9VdsXuh5h9E0ijBgPqH9UgQUzfpl0vKSz4A9mlg',\n  'championId': 79,\n  'championLevel': 1,\n  'championPoints': 303,\n  'lastPlayTime': 1585492507000,\n  'championPointsSinceLastLevel': 303,\n  'championPointsUntilNextLevel': 1497,\n  'chestGranted': False,\n  'tokensEarned': 0,\n  'summonerId': 'AMusPorQJJ3pVyeXQsn4qCvbfNTnPWbi4crOPJvWJoPJ3OA'},\n {'puuid': 'WOmVc65THRnANkwphrCQVwpvwvIw80oDjegANiw9VdsXuh5h9E0ijBgPqH9UgQUzfpl0vKSz4A9mlg',\n  'championId': 163,\n  'championLevel': 1,\n  'championPoints': 236,\n  'lastPlayTime': 1658874996000,\n  'championPointsSinceLastLevel': 236,\n  'championPointsUntilNextLevel': 1564,\n  'chestGranted': False,\n  'tokensEarned': 0,\n  'summonerId': 'AMusPorQJJ3pVyeXQsn4qCvbfNTnPWbi4crOPJvWJoPJ3OA'},\n {'puuid': 'WOmVc65THRnANkwphrCQVwpvwvIw80oDjegANiw9VdsXuh5h9E0ijBgPqH9UgQUzfpl0vKSz4A9mlg',\n  'championId': 887,\n  'championLevel': 1,\n  'championPoints': 178,\n  'lastPlayTime': 1656962847000,\n  'championPointsSinceLastLevel': 178,\n  'championPointsUntilNextLevel': 1622,\n  'chestGranted': False,\n  'tokensEarned': 0,\n  'summonerId': 'AMusPorQJJ3pVyeXQsn4qCvbfNTnPWbi4crOPJvWJoPJ3OA'},\n {'puuid': 'WOmVc65THRnANkwphrCQVwpvwvIw80oDjegANiw9VdsXuh5h9E0ijBgPqH9UgQUzfpl0vKSz4A9mlg',\n  'championId': 221,\n  'championLevel': 1,\n  'championPoints': 170,\n  'lastPlayTime': 1656106984000,\n  'championPointsSinceLastLevel': 170,\n  'championPointsUntilNextLevel': 1630,\n  'chestGranted': False,\n  'tokensEarned': 0,\n  'summonerId': 'AMusPorQJJ3pVyeXQsn4qCvbfNTnPWbi4crOPJvWJoPJ3OA'},\n {'puuid': 'WOmVc65THRnANkwphrCQVwpvwvIw80oDjegANiw9VdsXuh5h9E0ijBgPqH9UgQUzfpl0vKSz4A9mlg',\n  'championId': 112,\n  'championLevel': 1,\n  'championPoints': 170,\n  'lastPlayTime': 1664745509000,\n  'championPointsSinceLastLevel': 170,\n  'championPointsUntilNextLevel': 1630,\n  'chestGranted': False,\n  'tokensEarned': 0,\n  'summonerId': 'AMusPorQJJ3pVyeXQsn4qCvbfNTnPWbi4crOPJvWJoPJ3OA'},\n {'puuid': 'WOmVc65THRnANkwphrCQVwpvwvIw80oDjegANiw9VdsXuh5h9E0ijBgPqH9UgQUzfpl0vKSz4A9mlg',\n  'championId': 897,\n  'championLevel': 1,\n  'championPoints': 168,\n  'lastPlayTime': 1689267398000,\n  'championPointsSinceLastLevel': 168,\n  'championPointsUntilNextLevel': 1632,\n  'chestGranted': False,\n  'tokensEarned': 0,\n  'summonerId': 'AMusPorQJJ3pVyeXQsn4qCvbfNTnPWbi4crOPJvWJoPJ3OA'},\n {'puuid': 'WOmVc65THRnANkwphrCQVwpvwvIw80oDjegANiw9VdsXuh5h9E0ijBgPqH9UgQUzfpl0vKSz4A9mlg',\n  'championId': 164,\n  'championLevel': 1,\n  'championPoints': 168,\n  'lastPlayTime': 1492543032000,\n  'championPointsSinceLastLevel': 168,\n  'championPointsUntilNextLevel': 1632,\n  'chestGranted': False,\n  'tokensEarned': 0,\n  'summonerId': 'AMusPorQJJ3pVyeXQsn4qCvbfNTnPWbi4crOPJvWJoPJ3OA'},\n {'puuid': 'WOmVc65THRnANkwphrCQVwpvwvIw80oDjegANiw9VdsXuh5h9E0ijBgPqH9UgQUzfpl0vKSz4A9mlg',\n  'championId': 119,\n  'championLevel': 1,\n  'championPoints': 147,\n  'lastPlayTime': 1629727542000,\n  'championPointsSinceLastLevel': 147,\n  'championPointsUntilNextLevel': 1653,\n  'chestGranted': False,\n  'tokensEarned': 0,\n  'summonerId': 'AMusPorQJJ3pVyeXQsn4qCvbfNTnPWbi4crOPJvWJoPJ3OA'},\n {'puuid': 'WOmVc65THRnANkwphrCQVwpvwvIw80oDjegANiw9VdsXuh5h9E0ijBgPqH9UgQUzfpl0vKSz4A9mlg',\n  'championId': 77,\n  'championLevel': 1,\n  'championPoints': 142,\n  'lastPlayTime': 1530891629000,\n  'championPointsSinceLastLevel': 142,\n  'championPointsUntilNextLevel': 1658,\n  'chestGranted': False,\n  'tokensEarned': 0,\n  'summonerId': 'AMusPorQJJ3pVyeXQsn4qCvbfNTnPWbi4crOPJvWJoPJ3OA'},\n {'puuid': 'WOmVc65THRnANkwphrCQVwpvwvIw80oDjegANiw9VdsXuh5h9E0ijBgPqH9UgQUzfpl0vKSz4A9mlg',\n  'championId': 246,\n  'championLevel': 1,\n  'championPoints': 115,\n  'lastPlayTime': 1664749824000,\n  'championPointsSinceLastLevel': 115,\n  'championPointsUntilNextLevel': 1685,\n  'chestGranted': False,\n  'tokensEarned': 0,\n  'summonerId': 'AMusPorQJJ3pVyeXQsn4qCvbfNTnPWbi4crOPJvWJoPJ3OA'},\n {'puuid': 'WOmVc65THRnANkwphrCQVwpvwvIw80oDjegANiw9VdsXuh5h9E0ijBgPqH9UgQUzfpl0vKSz4A9mlg',\n  'championId': 517,\n  'championLevel': 1,\n  'championPoints': 113,\n  'lastPlayTime': 1591166897000,\n  'championPointsSinceLastLevel': 113,\n  'championPointsUntilNextLevel': 1687,\n  'chestGranted': False,\n  'tokensEarned': 0,\n  'summonerId': 'AMusPorQJJ3pVyeXQsn4qCvbfNTnPWbi4crOPJvWJoPJ3OA'},\n {'puuid': 'WOmVc65THRnANkwphrCQVwpvwvIw80oDjegANiw9VdsXuh5h9E0ijBgPqH9UgQUzfpl0vKSz4A9mlg',\n  'championId': 876,\n  'championLevel': 1,\n  'championPoints': 112,\n  'lastPlayTime': 1603867346000,\n  'championPointsSinceLastLevel': 112,\n  'championPointsUntilNextLevel': 1688,\n  'chestGranted': False,\n  'tokensEarned': 0,\n  'summonerId': 'AMusPorQJJ3pVyeXQsn4qCvbfNTnPWbi4crOPJvWJoPJ3OA'},\n {'puuid': 'WOmVc65THRnANkwphrCQVwpvwvIw80oDjegANiw9VdsXuh5h9E0ijBgPqH9UgQUzfpl0vKSz4A9mlg',\n  'championId': 59,\n  'championLevel': 1,\n  'championPoints': 105,\n  'lastPlayTime': 1512160824000,\n  'championPointsSinceLastLevel': 105,\n  'championPointsUntilNextLevel': 1695,\n  'chestGranted': False,\n  'tokensEarned': 0,\n  'summonerId': 'AMusPorQJJ3pVyeXQsn4qCvbfNTnPWbi4crOPJvWJoPJ3OA'},\n {'puuid': 'WOmVc65THRnANkwphrCQVwpvwvIw80oDjegANiw9VdsXuh5h9E0ijBgPqH9UgQUzfpl0vKSz4A9mlg',\n  'championId': 104,\n  'championLevel': 1,\n  'championPoints': 102,\n  'lastPlayTime': 1629558956000,\n  'championPointsSinceLastLevel': 102,\n  'championPointsUntilNextLevel': 1698,\n  'chestGranted': False,\n  'tokensEarned': 0,\n  'summonerId': 'AMusPorQJJ3pVyeXQsn4qCvbfNTnPWbi4crOPJvWJoPJ3OA'},\n {'puuid': 'WOmVc65THRnANkwphrCQVwpvwvIw80oDjegANiw9VdsXuh5h9E0ijBgPqH9UgQUzfpl0vKSz4A9mlg',\n  'championId': 41,\n  'championLevel': 1,\n  'championPoints': 100,\n  'lastPlayTime': 1522424969000,\n  'championPointsSinceLastLevel': 100,\n  'championPointsUntilNextLevel': 1700,\n  'chestGranted': False,\n  'tokensEarned': 0,\n  'summonerId': 'AMusPorQJJ3pVyeXQsn4qCvbfNTnPWbi4crOPJvWJoPJ3OA'}]"
     },
     "execution_count": 21,
     "metadata": {},
     "output_type": "execute_result"
    }
   ],
   "source": [
    "# use watcher.champion_mastery to get info about the mastery\n",
    "watcher.champion_mastery.by_summoner(region, encrypted_summoner_id=\"\")"
   ],
   "metadata": {
    "collapsed": false,
    "ExecuteTime": {
     "end_time": "2023-10-15T22:13:28.379180500Z",
     "start_time": "2023-10-15T22:13:27.934059400Z"
    }
   },
   "id": "977eca4de1c3b432"
  },
  {
   "cell_type": "markdown",
   "source": [
    "----\n",
    "# Player list by elo\n",
    "[League-V4](https://developer.riotgames.com/apis#league-v4/GET_getLeagueEntriesForSummoner)"
   ],
   "metadata": {
    "collapsed": false
   },
   "id": "fecb034791336102"
  },
  {
   "cell_type": "code",
   "execution_count": null,
   "outputs": [],
   "source": [
    "# use watcher.league to get the list of players in each elo\n",
    "watcher.league"
   ],
   "metadata": {
    "collapsed": false
   },
   "id": "151330355291647c"
  },
  {
   "cell_type": "markdown",
   "source": [
    "#### 1. Get player list below master"
   ],
   "metadata": {
    "collapsed": false
   },
   "id": "2bfbbfb2697ae145"
  },
  {
   "cell_type": "code",
   "execution_count": 15,
   "outputs": [],
   "source": [
    "gameMode = ['CLASSIC']\n",
    "gameType = 'MATCHED_GAME'\n",
    "queue = ['RANKED_SOLO_5x5', 'RANKED_FLEX_SR', 'RANKED_FLEX_TT']\n",
    "tier = ['IRON', 'BRONZE', 'SILVER', 'GOLD', 'PLATINUM', 'DIAMOND']\n",
    "division = ['I', 'II', 'III', 'IV']"
   ],
   "metadata": {
    "collapsed": false,
    "ExecuteTime": {
     "start_time": "2023-10-15T21:37:16.121244Z"
    }
   },
   "id": "98925cca1d52e147"
  },
  {
   "cell_type": "code",
   "execution_count": null,
   "outputs": [],
   "source": [
    "page = 1\n",
    "elo = watcher.league.entries(region, queue[0], tier[-1], division[0], page)\n",
    "elo"
   ],
   "metadata": {
    "collapsed": false
   },
   "id": "8e5c63a8d437d6e9"
  },
  {
   "cell_type": "markdown",
   "source": [
    "#### 2. Get player list above master"
   ],
   "metadata": {
    "collapsed": false
   },
   "id": "5eab5b00acfac17e"
  },
  {
   "cell_type": "code",
   "execution_count": null,
   "outputs": [],
   "source": [
    "watcher.league.masters_by_queue(region, queue[0])\n",
    "watcher.league.grandmaster_by_queue(region, queue[0])\n",
    "watcher.league.challenger_by_queue(region, queue[0])"
   ],
   "metadata": {
    "collapsed": false
   },
   "id": "43dc02f1b8b9889a"
  },
  {
   "cell_type": "markdown",
   "source": [
    "#### 3. Get single player info"
   ],
   "metadata": {
    "collapsed": false
   },
   "id": "bc041e3631249445"
  },
  {
   "cell_type": "code",
   "execution_count": null,
   "outputs": [],
   "source": [
    "watcher.league.by_summoner(region, encrypted_summoner_id=\"\")"
   ],
   "metadata": {
    "collapsed": false
   },
   "id": "3f9aa3db83eb011b"
  },
  {
   "cell_type": "markdown",
   "source": [
    "----\n",
    "# Match info\n",
    "\n",
    "[Match-V4](https://developer.riotgames.com/apis#match-v5)"
   ],
   "metadata": {
    "collapsed": false
   },
   "id": "fc0229048a30b4b"
  },
  {
   "cell_type": "code",
   "execution_count": null,
   "outputs": [],
   "source": [
    "# use watcher.match to get info about the match\n",
    "watcher.match"
   ],
   "metadata": {
    "collapsed": false
   },
   "id": "83e92de7a0fbd33f"
  },
  {
   "cell_type": "markdown",
   "source": [
    "#### 1. Get match history by puuid\n",
    "\n",
    "queue:\n",
    "- Ranked Solo Queue: 420\n",
    "- Ranked Flex Queue: 440\n",
    "- ARAM: 450\n",
    "\n",
    "type:\n",
    "- normal\n",
    "- ranked\n",
    "- tutorial\n",
    "- tourney"
   ],
   "metadata": {
    "collapsed": false
   },
   "id": "72bfd5aaf1f1011e"
  },
  {
   "cell_type": "code",
   "execution_count": null,
   "outputs": [],
   "source": [
    "# There is a limit of 100 matches per request\n",
    "watcher.match.matchlist_by_puuid(region, encrypted_puuid=\"\")"
   ],
   "metadata": {
    "collapsed": false
   },
   "id": "9a63c1dbb09a8fa3"
  },
  {
   "cell_type": "markdown",
   "source": [
    "#### 2. Get match outcome by match id"
   ],
   "metadata": {
    "collapsed": false
   },
   "id": "769b8637860005d2"
  },
  {
   "cell_type": "code",
   "execution_count": null,
   "outputs": [],
   "source": [
    "# To get the final state of the match\n",
    "watcher.match.by_id(region, match_id=\"\")\n",
    "# To get the timeline of the match\n",
    "watcher.match.timeline_by_match(region, match_id=\"\")"
   ],
   "metadata": {
    "collapsed": false
   },
   "id": "9630046120019d9f"
  }
 ],
 "metadata": {
  "kernelspec": {
   "display_name": "Python 3",
   "language": "python",
   "name": "python3"
  },
  "language_info": {
   "codemirror_mode": {
    "name": "ipython",
    "version": 2
   },
   "file_extension": ".py",
   "mimetype": "text/x-python",
   "name": "python",
   "nbconvert_exporter": "python",
   "pygments_lexer": "ipython2",
   "version": "2.7.6"
  }
 },
 "nbformat": 4,
 "nbformat_minor": 5
}
